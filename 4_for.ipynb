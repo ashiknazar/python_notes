{
 "cells": [
  {
   "cell_type": "markdown",
   "metadata": {
    "vscode": {
     "languageId": "plaintext"
    }
   },
   "source": [
    "# Python `for` Loop\n",
    "\n",
    "The `for` loop in Python is used to iterate over a sequence (like a list, tuple, dictionary, string, or range). It is commonly used when you know the number of iterations or want to process each item in a collection.\n",
    "\n",
    "## Syntax\n",
    "The basic syntax of a `for` loop is:\n",
    "\n"
   ]
  },
  {
   "cell_type": "markdown",
   "metadata": {},
   "source": [
    "\n",
    "- **`variable`**: A temporary name that holds each value in the sequence as the loop iterates through it.\n",
    "- **`sequence`**: A collection of items (e.g., a list, string, range) that the loop will iterate over.\n",
    "- **Loop Body**: The block of code that gets executed for each item in the sequence.\n",
    "\n",
    "## Important Notes:\n",
    "1. **Iteration over a Sequence**: The `for` loop in Python automatically iterates over each item in the sequence and assigns it to the `variable`. \n",
    "   \n",
    "2. **Ranges**: The `range()` function is commonly used in `for` loops to generate a sequence of numbers, which is useful for repeating an action a specific number of times.\n",
    "\n",
    "3. **Loop Control**: You can use `break` to exit the loop early and `continue` to skip the rest of the current iteration and move to the next one.\n",
    "\n",
    "4. **Nested Loops**: It is possible to nest one `for` loop inside another, which can be useful for iterating over multi-dimensional data structures like lists of lists.\n",
    "\n",
    "## Use Cases:\n",
    "- **Iterating over a list**: You can iterate through a list of items and perform an action on each one.\n",
    "- **Iterating over a string**: You can loop through each character of a string to perform specific operations.\n",
    "- **Using `range()`**: You can use `range()` for repetitive tasks, like running a loop a specific number of times.\n",
    "\n",
    "## Best Practices:\n",
    "- Use `for` loops when iterating over a known collection or a sequence.\n",
    "- Ensure that the sequence being iterated over is not empty (if necessary).\n",
    "- Be cautious when using `break` and `continue` in loops to avoid confusion in loop logic.\n",
    "\n",
    "## Conclusion:\n",
    "The `for` loop is a powerful tool in Python for iterating over sequences and performing repetitive tasks efficiently. It is especially useful when you know how many times you need to repeat an action or when working with collections of items.\n"
   ]
  },
  {
   "cell_type": "code",
   "execution_count": 2,
   "metadata": {},
   "outputs": [
    {
     "name": "stdout",
     "output_type": "stream",
     "text": [
      "apple\n",
      "banana\n",
      "cherry\n"
     ]
    }
   ],
   "source": [
    "# Example 1: Iterating over a list\n",
    "fruits = [\"apple\", \"banana\", \"cherry\"]\n",
    "for fruit in fruits:\n",
    "    print(fruit)"
   ]
  },
  {
   "cell_type": "code",
   "execution_count": 3,
   "metadata": {},
   "outputs": [
    {
     "name": "stdout",
     "output_type": "stream",
     "text": [
      "h\n",
      "e\n",
      "l\n",
      "l\n",
      "o\n"
     ]
    }
   ],
   "source": [
    "\n",
    "\n",
    "# Example 2: Iterating over a string\n",
    "word = \"hello\"\n",
    "for char in word:\n",
    "    print(char)"
   ]
  },
  {
   "cell_type": "code",
   "execution_count": 4,
   "metadata": {},
   "outputs": [
    {
     "name": "stdout",
     "output_type": "stream",
     "text": [
      "Iteration 0\n",
      "Iteration 1\n",
      "Iteration 2\n",
      "Iteration 3\n",
      "Iteration 4\n"
     ]
    }
   ],
   "source": [
    "\n",
    "# Example 3: Using range() for a specific number of iterations\n",
    "for i in range(5):\n",
    "    print(\"Iteration\", i)"
   ]
  },
  {
   "cell_type": "code",
   "execution_count": 5,
   "metadata": {},
   "outputs": [
    {
     "name": "stdout",
     "output_type": "stream",
     "text": [
      "1\n",
      "3\n",
      "5\n",
      "7\n",
      "9\n"
     ]
    }
   ],
   "source": [
    "\n",
    "# Example 4: Using range() with start, stop, and step\n",
    "for i in range(1, 10, 2):  # Starts at 1, stops before 10, with a step of 2\n",
    "    print(i)\n"
   ]
  },
  {
   "cell_type": "code",
   "execution_count": 6,
   "metadata": {},
   "outputs": [
    {
     "name": "stdout",
     "output_type": "stream",
     "text": [
      "0\n",
      "1\n",
      "2\n"
     ]
    }
   ],
   "source": [
    "\n",
    "# Example 5: Breaking out of a for loop early\n",
    "for i in range(5):\n",
    "    if i == 3:\n",
    "        break  # Exit the loop when i is 3\n",
    "    print(i)"
   ]
  },
  {
   "cell_type": "code",
   "execution_count": 7,
   "metadata": {},
   "outputs": [
    {
     "name": "stdout",
     "output_type": "stream",
     "text": [
      "0\n",
      "1\n",
      "3\n",
      "4\n"
     ]
    }
   ],
   "source": [
    "\n",
    "# Example 6: Skipping an iteration with continue\n",
    "for i in range(5):\n",
    "    if i == 2:\n",
    "        continue  # Skip this iteration when i is 2\n",
    "    print(i)"
   ]
  },
  {
   "cell_type": "code",
   "execution_count": 8,
   "metadata": {},
   "outputs": [
    {
     "name": "stdout",
     "output_type": "stream",
     "text": [
      "1 2 3 \n",
      "4 5 6 \n",
      "7 8 9 \n"
     ]
    }
   ],
   "source": [
    "# Example 7: Nested for loop (iterating over a list of lists)\n",
    "matrix = [[1, 2, 3], [4, 5, 6], [7, 8, 9]]\n",
    "for row in matrix:\n",
    "    for num in row:\n",
    "        print(num, end=\" \")\n",
    "    print()  # for a new line after each row\n"
   ]
  },
  {
   "cell_type": "markdown",
   "metadata": {},
   "source": []
  }
 ],
 "metadata": {
  "kernelspec": {
   "display_name": "base",
   "language": "python",
   "name": "python3"
  },
  "language_info": {
   "codemirror_mode": {
    "name": "ipython",
    "version": 3
   },
   "file_extension": ".py",
   "mimetype": "text/x-python",
   "name": "python",
   "nbconvert_exporter": "python",
   "pygments_lexer": "ipython3",
   "version": "3.12.7"
  }
 },
 "nbformat": 4,
 "nbformat_minor": 2
}
