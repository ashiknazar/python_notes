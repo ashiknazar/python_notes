{
 "cells": [
  {
   "cell_type": "markdown",
   "metadata": {},
   "source": [
    "## `if`, `elif`, and `else` Statements in Python\n",
    "\n",
    "The `if`, `elif`, and `else` statements in Python are used for decision-making, enabling you to execute different blocks of code based on certain conditions.\n",
    "\n",
    "### 1. `if` Statement\n",
    "\n",
    "The `if` statement is used to test a condition. If the condition evaluates to `True`, the code inside the `if` block is executed. If the condition is `False`, the code in the `if` block is skipped.\n",
    "\n",
    "### 2. `else` Statement\n",
    "\n",
    "The `else` statement is used to specify a block of code that will execute if the condition in the `if` statement evaluates to `False`. It provides an alternative when the `if` condition is not met. The `else` block is optional and is used when no other conditions are true.\n",
    "\n",
    "### 3. `elif` Statement\n",
    "\n",
    "The `elif` (short for \"else if\") statement is used to check additional conditions when the initial `if` condition is `False`. If the `elif` condition evaluates to `True`, its block of code is executed. You can have multiple `elif` statements to test different conditions in sequence.\n",
    "\n",
    "### Key Points:\n",
    "- **`if`**: Tests a condition and executes the block if the condition is `True`.\n",
    "- **`elif`**: Checks additional conditions if the `if` condition is `False`. You can have multiple `elif` statements.\n",
    "- **`else`**: Executes a block of code if all preceding conditions (`if` and `elif`) are `False`.\n",
    "\n",
    "### Nesting `if` Statements\n",
    "\n",
    "It is possible to nest `if`, `elif`, and `else` statements inside each other to create more complex decision-making logic. Nested conditions allow for more detailed and specific checks.\n",
    "\n",
    "### Conclusion:\n",
    "- `if-else` and `elif` statements are essential for controlling the flow of a program based on conditions.\n",
    "- Use `if` for the first condition, `elif` for additional conditions, and `else` as a fallback when no conditions are met.\n"
   ]
  },
  {
   "cell_type": "code",
   "execution_count": 1,
   "metadata": {},
   "outputs": [
    {
     "name": "stdout",
     "output_type": "stream",
     "text": [
      "You are an adult.\n",
      "You are an adult.\n",
      "You are an adult but not allowed to drink in some countries.\n"
     ]
    }
   ],
   "source": [
    "# Example 1: Simple if-else statement\n",
    "age = 20\n",
    "if age >= 18:\n",
    "    print(\"You are an adult.\")\n",
    "else:\n",
    "    print(\"You are a minor.\")\n",
    "\n",
    "# Example 2: if-elif-else statement\n",
    "age = 25\n",
    "if age < 18:\n",
    "    print(\"You are a minor.\")\n",
    "elif 18 <= age <= 64:\n",
    "    print(\"You are an adult.\")\n",
    "else:\n",
    "    print(\"You are a senior citizen.\")\n",
    "\n",
    "# Example 3: Nested if statements\n",
    "age = 20\n",
    "if age >= 18:\n",
    "    if age < 21:\n",
    "        print(\"You are an adult but not allowed to drink in some countries.\")\n",
    "    else:\n",
    "        print(\"You are an adult and allowed to drink.\")\n",
    "else:\n",
    "    print(\"You are a minor.\")\n"
   ]
  },
  {
   "cell_type": "code",
   "execution_count": null,
   "metadata": {},
   "outputs": [],
   "source": []
  }
 ],
 "metadata": {
  "kernelspec": {
   "display_name": "base",
   "language": "python",
   "name": "python3"
  },
  "language_info": {
   "codemirror_mode": {
    "name": "ipython",
    "version": 3
   },
   "file_extension": ".py",
   "mimetype": "text/x-python",
   "name": "python",
   "nbconvert_exporter": "python",
   "pygments_lexer": "ipython3",
   "version": "3.12.7"
  }
 },
 "nbformat": 4,
 "nbformat_minor": 2
}
