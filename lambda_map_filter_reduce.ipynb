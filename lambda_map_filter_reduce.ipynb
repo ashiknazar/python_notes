{
 "cells": [
  {
   "cell_type": "markdown",
   "id": "26fd817b",
   "metadata": {},
   "source": [
    "### Lambda Functions in Python\n",
    "\n",
    "- In Python, a lambda function is a **small,anonymous** function defined using the `lambda` keyword.\n",
    "- It can take any number of arguments but can only have **one expression**. \n",
    "- Lambda functions are often used for short, throwaway functions that are **not reused elsewhere**.\n",
    "\n"
   ]
  },
  {
   "cell_type": "markdown",
   "id": "cbc0285c",
   "metadata": {},
   "source": [
    "___"
   ]
  },
  {
   "cell_type": "markdown",
   "id": "4e794066",
   "metadata": {},
   "source": [
    "**Syntax:**\n",
    "\n",
    "```python\n",
    "lambda arguments: expression\n",
    "```"
   ]
  },
  {
   "cell_type": "markdown",
   "id": "9b64fefa",
   "metadata": {},
   "source": [
    "___"
   ]
  },
  {
   "cell_type": "code",
   "execution_count": 17,
   "id": "ffa47143",
   "metadata": {},
   "outputs": [
    {
     "name": "stdout",
     "output_type": "stream",
     "text": [
      "15\n"
     ]
    }
   ],
   "source": [
    "add_ten = lambda x: x + 10\n",
    "print(add_ten(5))  \n"
   ]
  },
  {
   "cell_type": "markdown",
   "id": "e2b31d8e",
   "metadata": {},
   "source": [
    "- \"In Python, a lambda function is a small, anonymous function... often used for short, throwaway functions that are not reused elsewhere.\"\n",
    "- **However, in your example**\n",
    "   -  You did assign the lambda function to a variable (`add_ten`), which gives it a name — so it's no longer \"anonymous\" in practice, and it can be reused just like a regular function.\n",
    "   - the definition is describing the common use case of lambda: short, anonymous, disposable functions used in-place (e.g., inside `map`, `filter`, `sorted`, etc.). But Python allows you to assign a lambda to a variable, making it reusable."
   ]
  },
  {
   "cell_type": "markdown",
   "id": "5429118d",
   "metadata": {},
   "source": [
    "___"
   ]
  },
  {
   "cell_type": "markdown",
   "id": "446a112b",
   "metadata": {},
   "source": [
    "### Common Use Cases:\n",
    "\n",
    "- Used with functions like **map()**, **filter()**, and **sorted()**\n",
    "\n",
    "- Inline function definitions for short operations\n"
   ]
  },
  {
   "cell_type": "code",
   "execution_count": 1,
   "id": "03c1dfc9",
   "metadata": {},
   "outputs": [
    {
     "name": "stdout",
     "output_type": "stream",
     "text": [
      "[1, 4, 9, 16]\n"
     ]
    }
   ],
   "source": [
    "numbers = [1, 2, 3, 4]\n",
    "squared = list(map(lambda x: x**2, numbers))\n",
    "print(squared)  # Output: [1, 4, 9, 16]\n"
   ]
  },
  {
   "cell_type": "markdown",
   "id": "8b425e7b",
   "metadata": {},
   "source": [
    "___"
   ]
  },
  {
   "cell_type": "markdown",
   "id": "a46650c4",
   "metadata": {},
   "source": [
    "### Common Functional Programming Tools in Python\n",
    "\n",
    "- **`map(function, iterable)`**  \n",
    "  Applies the given `function` to each item in the `iterable` and returns a map object (an iterator) of the results.  \n",
    "  Use it when you want to transform all elements in a sequence.\n",
    "\n",
    "- **`filter(function, iterable)`**  \n",
    "  Filters elements from the `iterable` for which the `function` returns `True`. Returns a filter object (an iterator) with the filtered items.  \n",
    "  Use it to select elements based on a condition.\n",
    "\n",
    "- **`reduce(function, iterable)`**  \n",
    "  Applies the `function` cumulatively to the items of the `iterable`, reducing the sequence to a single value.  \n",
    "  Note: `reduce` is available in the `functools` module, so you must import it first:\n",
    "  ```python\n",
    "  from functools import reduce\n",
    "  ```\n",
    "  Use it when you want to combine all elements into one result (e.g., sum, product)."
   ]
  },
  {
   "cell_type": "markdown",
   "id": "e8fcb58e",
   "metadata": {},
   "source": [
    "- **`sorted(iterable, key=None, reverse=False)`**\n",
    "Returns a new sorted list from the items in the iterable.\n",
    "\n",
    "  - `key` is an optional function to customize sorting criteria.\n",
    "\n",
    "  - `reverse=True` sorts in descending order.\n",
    "Use it to sort data without modifying the original iterable."
   ]
  },
  {
   "cell_type": "markdown",
   "id": "d5aaa1ec",
   "metadata": {},
   "source": [
    "___"
   ]
  },
  {
   "cell_type": "markdown",
   "id": "ad42eef8",
   "metadata": {},
   "source": [
    "###  <u> map function</u>\n",
    "\n",
    "\n",
    "\n",
    "\n"
   ]
  },
  {
   "cell_type": "code",
   "execution_count": 3,
   "id": "34b4e296",
   "metadata": {},
   "outputs": [],
   "source": [
    "def square(x):\n",
    "    return x ** 2"
   ]
  },
  {
   "cell_type": "code",
   "execution_count": 4,
   "id": "72dc4b38",
   "metadata": {},
   "outputs": [],
   "source": [
    "numbers = [1, 2, 3, 4, 5]"
   ]
  },
  {
   "cell_type": "code",
   "execution_count": null,
   "id": "a6f2fd58",
   "metadata": {},
   "outputs": [
    {
     "name": "stdout",
     "output_type": "stream",
     "text": [
      "[1, 4, 9, 16, 25]\n"
     ]
    }
   ],
   "source": [
    "squared_numbers = map(square, numbers)\n",
    "\n",
    "print(list(squared_numbers)) "
   ]
  },
  {
   "cell_type": "markdown",
   "id": "f1e819a4",
   "metadata": {},
   "source": [
    "### Alternatively, using a lambda function:"
   ]
  },
  {
   "cell_type": "code",
   "execution_count": 6,
   "id": "9eb23aef",
   "metadata": {},
   "outputs": [
    {
     "name": "stdout",
     "output_type": "stream",
     "text": [
      "[1, 4, 9, 16, 25]\n"
     ]
    }
   ],
   "source": [
    "numbers = [1, 2, 3, 4, 5]\n",
    "\n",
    "squared_numbers = map(lambda x: x ** 2, numbers)\n",
    "\n",
    "print(list(squared_numbers))  # Output: [1, 4, 9, 16, 25]\n"
   ]
  },
  {
   "cell_type": "markdown",
   "id": "9ef56234",
   "metadata": {},
   "source": [
    "### `map()` Function Arguments\n",
    "\n",
    "The `map()` function in Python expects a **callable function** as its first argument and an iterable as its second argument. \n",
    "\n",
    "- The first argument **must be a function** (or any callable) that defines how each element of the iterable will be transformed.\n",
    "- This function can be:\n",
    "  - A **named function** defined with `def`\n",
    "  - An **anonymous lambda function**\n",
    "\n",
    "You **cannot** pass a plain expression or any non-callable object as the first argument.\n"
   ]
  },
  {
   "cell_type": "markdown",
   "id": "4a9cb613",
   "metadata": {},
   "source": [
    "___"
   ]
  },
  {
   "cell_type": "markdown",
   "id": "f4da2286",
   "metadata": {},
   "source": [
    " ### <u> filter function </u>"
   ]
  },
  {
   "cell_type": "markdown",
   "id": "47c09387",
   "metadata": {},
   "source": [
    "- The `filter()` function is used to **select elements from an iterable** for which a given function returns `True`. It filters out the items that do not satisfy the condition defined by the function.\n"
   ]
  },
  {
   "cell_type": "markdown",
   "id": "efb16749",
   "metadata": {},
   "source": [
    "- **Syntax:**  \n",
    "  ```python\n",
    "  filter(function, iterable)"
   ]
  },
  {
   "cell_type": "code",
   "execution_count": 7,
   "id": "d329b608",
   "metadata": {},
   "outputs": [],
   "source": [
    "def is_even(x):\n",
    "    return x % 2 == 0"
   ]
  },
  {
   "cell_type": "code",
   "execution_count": 8,
   "id": "94dfdbda",
   "metadata": {},
   "outputs": [],
   "source": [
    "numbers = [1, 2, 3, 4, 5, 6]"
   ]
  },
  {
   "cell_type": "code",
   "execution_count": 9,
   "id": "3c332b1e",
   "metadata": {},
   "outputs": [
    {
     "name": "stdout",
     "output_type": "stream",
     "text": [
      "[2, 4, 6]\n"
     ]
    }
   ],
   "source": [
    "even_numbers = filter(is_even, numbers)\n",
    "\n",
    "print(list(even_numbers)) "
   ]
  },
  {
   "cell_type": "markdown",
   "id": "db09021d",
   "metadata": {},
   "source": [
    "### Alternatively, using a lambda function:"
   ]
  },
  {
   "cell_type": "code",
   "execution_count": 10,
   "id": "e71215b1",
   "metadata": {},
   "outputs": [
    {
     "name": "stdout",
     "output_type": "stream",
     "text": [
      "[2, 4, 6]\n"
     ]
    }
   ],
   "source": [
    "numbers = [1, 2, 3, 4, 5, 6]\n",
    "\n",
    "# Filter out only even numbers\n",
    "even_numbers = filter(lambda x: x % 2 == 0, numbers)\n",
    "\n",
    "print(list(even_numbers))  # Output: [2, 4, 6]\n"
   ]
  },
  {
   "cell_type": "markdown",
   "id": "71012aef",
   "metadata": {},
   "source": [
    "___"
   ]
  },
  {
   "cell_type": "markdown",
   "id": "5493f943",
   "metadata": {},
   "source": [
    "### `reduce()` Function in Python\n",
    "\n",
    "The `reduce()` function is used to **apply a function cumulatively** to the items of an iterable, reducing the iterable to a single value.\n",
    "\n",
    "- It is part of the `functools` module, so you need to import it:\n",
    "  ```python\n",
    "  from functools import reduce\n"
   ]
  },
  {
   "cell_type": "markdown",
   "id": "08df8671",
   "metadata": {},
   "source": [
    "> syntax\n",
    "- `reduce(function, iterable)`\n"
   ]
  },
  {
   "cell_type": "markdown",
   "id": "f24121c7",
   "metadata": {},
   "source": [
    "- The function takes **two arguments** and is applied cumulatively:\n",
    "\n",
    "  - First to the first two items,\n",
    "\n",
    "  - Then to the result and the next item,\n",
    "\n",
    "  - And so on, until one final result remains."
   ]
  },
  {
   "cell_type": "code",
   "execution_count": 14,
   "id": "c58bdfd1",
   "metadata": {},
   "outputs": [],
   "source": [
    "from functools import reduce\n",
    "def multiply(x, y):\n",
    "    return x * y"
   ]
  },
  {
   "cell_type": "code",
   "execution_count": 12,
   "id": "15a47fd6",
   "metadata": {},
   "outputs": [],
   "source": [
    "numbers = [1, 2, 3, 4]"
   ]
  },
  {
   "cell_type": "code",
   "execution_count": 15,
   "id": "c0a4f071",
   "metadata": {},
   "outputs": [
    {
     "name": "stdout",
     "output_type": "stream",
     "text": [
      "24\n"
     ]
    }
   ],
   "source": [
    "result = reduce(multiply, numbers)\n",
    "print(result) "
   ]
  },
  {
   "cell_type": "markdown",
   "id": "7f11b4a1",
   "metadata": {},
   "source": [
    "### Alternatively, using a lambda function:"
   ]
  },
  {
   "cell_type": "code",
   "execution_count": 16,
   "id": "7800aa5e",
   "metadata": {},
   "outputs": [
    {
     "name": "stdout",
     "output_type": "stream",
     "text": [
      "24\n"
     ]
    }
   ],
   "source": [
    "numbers = [1, 2, 3, 4]\n",
    "\n",
    "result = reduce(lambda x, y: x * y, numbers)\n",
    "\n",
    "print(result)  # Output: 24"
   ]
  },
  {
   "cell_type": "code",
   "execution_count": null,
   "id": "965076e0",
   "metadata": {},
   "outputs": [],
   "source": []
  }
 ],
 "metadata": {
  "kernelspec": {
   "display_name": "base",
   "language": "python",
   "name": "python3"
  },
  "language_info": {
   "codemirror_mode": {
    "name": "ipython",
    "version": 3
   },
   "file_extension": ".py",
   "mimetype": "text/x-python",
   "name": "python",
   "nbconvert_exporter": "python",
   "pygments_lexer": "ipython3",
   "version": "3.12.7"
  }
 },
 "nbformat": 4,
 "nbformat_minor": 5
}
