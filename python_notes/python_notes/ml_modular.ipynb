{
 "cells": [
  {
   "cell_type": "markdown",
   "id": "c74c5b24-e999-4880-9e0f-9ce8d73d137d",
   "metadata": {},
   "source": [
    "project_folder/\n",
    "├── linear.py             # Contains your LinearRegression class\n",
    "└── another_file.py       # File where you want to import LinearRegression\n"
   ]
  },
  {
   "cell_type": "markdown",
   "id": "6859724b-3b14-4135-9fe2-b16b5dd4949c",
   "metadata": {},
   "source": [
    "\n",
    "## Step 1: Define the `LinearRegression` Class in `linear.py`\n",
    "\n",
    "In `linear.py`, define your `LinearRegression` class with `fit` and `predict` methods:\n",
    "\n",
    "```python\n",
    "\n",
    "\n",
    "\n",
    "\n",
    "# linear.py\n",
    "\n",
    "class LinearRegression:\n",
    "    def __init__(self):\n",
    "        # Initialize any variables you need\n",
    "        pass\n",
    "\n",
    "    def fit(self, X, y):\n",
    "        \"\"\"\n",
    "        Fit the linear regression model on training data.\n",
    "\n",
    "        Parameters:\n",
    "        - X: array-like, shape (n_samples, n_features)\n",
    "        - y: array-like, shape (n_samples,)\n",
    "\n",
    "        Returns:\n",
    "        - self: object\n",
    "        \"\"\"\n",
    "        # Code to train your linear regression model\n",
    "        pass\n",
    "\n",
    "    def predict(self, X):\n",
    "        \"\"\"\n",
    "        Predict target values for X.\n",
    "\n",
    "        Parameters:\n",
    "        - X: array-like, shape (n_samples, n_features)\n",
    "\n",
    "        Returns:\n",
    "        - y_pred: array, shape (n_samples,)\n",
    "        \"\"\"\n",
    "        # Code to make predictions based on your trained model\n",
    "        pass\n"
   ]
  },
  {
   "cell_type": "markdown",
   "id": "2b1073ef-9999-455a-a3e0-1d8827027a94",
   "metadata": {},
   "source": [
    "# another_file.py\n",
    "\n",
    "from linear import LinearRegression  \n",
    "\n",
    "# Create an instance of the LinearRegression class\n",
    "model = LinearRegression()\n",
    "\n",
    "# Sample data (replace with your own dataset)\n",
    "X_train = [[1], [2], [3]]  # Feature data for training\n",
    "y_train = [2, 4, 6]        # Target data for training\n",
    "\n",
    "X_test = [[4], [5]]        # Feature data for testing\n",
    "\n",
    "# Fit the model with training data\n",
    "model.fit(X_train, y_train)\n",
    "\n",
    "# Make predictions\n",
    "predictions = model.predict(X_test)\n",
    "\n",
    "print(\"Predictions:\", predictions)\n"
   ]
  }
 ],
 "metadata": {
  "kernelspec": {
   "display_name": "Python 3 (ipykernel)",
   "language": "python",
   "name": "python3"
  },
  "language_info": {
   "codemirror_mode": {
    "name": "ipython",
    "version": 3
   },
   "file_extension": ".py",
   "mimetype": "text/x-python",
   "name": "python",
   "nbconvert_exporter": "python",
   "pygments_lexer": "ipython3",
   "version": "3.12.4"
  }
 },
 "nbformat": 4,
 "nbformat_minor": 5
}
