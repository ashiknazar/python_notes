{
 "cells": [
  {
   "cell_type": "markdown",
   "metadata": {},
   "source": [
    "- In Python, garbage collection refers to the automatic process of reclaiming memory by identifying and freeing unused objects that are no longer needed by the program. Python handles memory management using a combination of reference counting and a cyclic garbage collector."
   ]
  },
  {
   "cell_type": "markdown",
   "metadata": {},
   "source": [
    "1. **Reference Counting**\n",
    "- When an object is created, its reference count is set to 1.\n",
    "- When a new reference is made to the object, the reference count increases.\n",
    "- When a reference is deleted or goes out of scope, the reference count decreases."
   ]
  },
  {
   "cell_type": "markdown",
   "metadata": {},
   "source": []
  },
  {
   "cell_type": "code",
   "execution_count": 1,
   "metadata": {},
   "outputs": [],
   "source": [
    "a = []  # Reference count of the list object is 1\n",
    "b = a    # Reference count increases to 2\n",
    "del a    # Reference count decreases to 1\n",
    "del b    # Reference count becomes 0, object is garbage collected\n"
   ]
  },
  {
   "cell_type": "markdown",
   "metadata": {},
   "source": [
    "2. **Cyclic Garbage Collector**\n",
    "- While reference counting works well in most cases, it has a limitation: it cannot handle circular references, where two or more objects reference each other, forming a cycle. For example:\n"
   ]
  },
  {
   "cell_type": "code",
   "execution_count": 2,
   "metadata": {},
   "outputs": [],
   "source": [
    "class MyClass:\n",
    "    def __init__(self):\n",
    "        self.ref = None\n",
    "\n",
    "a = MyClass()\n",
    "b = MyClass()\n",
    "a.ref = b\n",
    "b.ref = a\n"
   ]
  },
  {
   "cell_type": "markdown",
   "metadata": {},
   "source": [
    "- In the above code, both a and b reference each other, but no external references exist. Reference counting alone can't clean this up because their reference counts will never reach zero. To solve this, Python uses a cyclic garbage collector to detect and clean up such reference cycles."
   ]
  },
  {
   "cell_type": "markdown",
   "metadata": {},
   "source": [
    "- The garbage collector in Python uses a generational approach:\n",
    "\n",
    "- **Generation 0**: Newly created objects are in this generation.\n",
    "- **Generation 1**: Objects that survived one garbage collection cycle.\n",
    "- **Generation 2**: Objects that survived multiple cycles.\n",
    "The collector first looks for objects that are not reachable in Generation 0, and then it moves on to the other generations. This helps optimize performance."
   ]
  },
  {
   "cell_type": "markdown",
   "metadata": {},
   "source": [
    "3. **Manual Garbage Collection Control**"
   ]
  },
  {
   "cell_type": "markdown",
   "metadata": {},
   "source": [
    "- Python's gc (garbage collection) module allows you to interact with the garbage collection process manually, giving you the ability to disable or configure the collection process."
   ]
  },
  {
   "cell_type": "markdown",
   "metadata": {},
   "source": [
    "- Enabling/Disabling Garbage Collection:"
   ]
  },
  {
   "cell_type": "code",
   "execution_count": 3,
   "metadata": {},
   "outputs": [],
   "source": [
    "import gc\n",
    "gc.disable()  # Disable automatic garbage collection\n",
    "gc.enable() "
   ]
  },
  {
   "cell_type": "markdown",
   "metadata": {},
   "source": [
    "- Collecting Garbage Manually:"
   ]
  },
  {
   "cell_type": "code",
   "execution_count": 4,
   "metadata": {},
   "outputs": [
    {
     "data": {
      "text/plain": [
       "7"
      ]
     },
     "execution_count": 4,
     "metadata": {},
     "output_type": "execute_result"
    }
   ],
   "source": [
    "gc.collect()  # Manually invoke the garbage collection\n"
   ]
  },
  {
   "cell_type": "markdown",
   "metadata": {},
   "source": [
    "Getting Garbage Collection Statistics:"
   ]
  },
  {
   "cell_type": "code",
   "execution_count": 5,
   "metadata": {},
   "outputs": [
    {
     "data": {
      "text/plain": [
       "[{'collections': 179, 'collected': 1214, 'uncollectable': 0},\n",
       " {'collections': 16, 'collected': 289, 'uncollectable': 0},\n",
       " {'collections': 2, 'collected': 81, 'uncollectable': 0}]"
      ]
     },
     "execution_count": 5,
     "metadata": {},
     "output_type": "execute_result"
    }
   ],
   "source": [
    "gc.get_stats()  # Returns information about garbage collection statistics\n"
   ]
  },
  {
   "cell_type": "markdown",
   "metadata": {},
   "source": [
    "Collecting Specific Generations:\n"
   ]
  },
  {
   "cell_type": "code",
   "execution_count": 6,
   "metadata": {},
   "outputs": [
    {
     "data": {
      "text/plain": [
       "0"
      ]
     },
     "execution_count": 6,
     "metadata": {},
     "output_type": "execute_result"
    }
   ],
   "source": [
    "gc.collect(0)  # Collect only Generation 0\n",
    "gc.collect(1)  # Collect Generation 1 and below\n"
   ]
  },
  {
   "cell_type": "markdown",
   "metadata": {},
   "source": [
    "4. **Finalization via __del__() Method**\n",
    "\n",
    "The __del__() method can be defined in a class to specify a destructor, which is called when an object is about to be destroyed. However, its use with garbage collection can be tricky, especially when it interacts with reference cycles. It’s not recommended to rely heavily on __del__ for cleanup tasks. Python’s gc module offers more robust ways to handle cleanup"
   ]
  },
  {
   "cell_type": "code",
   "execution_count": 7,
   "metadata": {},
   "outputs": [
    {
     "name": "stdout",
     "output_type": "stream",
     "text": [
      "Object is being destroyed.\n"
     ]
    }
   ],
   "source": [
    "class MyClass:\n",
    "    def __del__(self):\n",
    "        print(\"Object is being destroyed.\")\n",
    "\n",
    "obj = MyClass()\n",
    "del obj  # The __del__ method is called\n"
   ]
  },
  {
   "cell_type": "markdown",
   "metadata": {},
   "source": []
  }
 ],
 "metadata": {
  "kernelspec": {
   "display_name": "base",
   "language": "python",
   "name": "python3"
  },
  "language_info": {
   "codemirror_mode": {
    "name": "ipython",
    "version": 3
   },
   "file_extension": ".py",
   "mimetype": "text/x-python",
   "name": "python",
   "nbconvert_exporter": "python",
   "pygments_lexer": "ipython3",
   "version": "3.12.7"
  }
 },
 "nbformat": 4,
 "nbformat_minor": 2
}
