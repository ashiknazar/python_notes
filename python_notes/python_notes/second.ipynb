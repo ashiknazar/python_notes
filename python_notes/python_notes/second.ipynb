{
 "cells": [
  {
   "cell_type": "code",
   "execution_count": null,
   "id": "f7ac323e-aae0-456a-acf8-7231b997daf1",
   "metadata": {},
   "outputs": [],
   "source": [
    "import sqlite3\n",
    "\n",
    "# Step 1: Connect to the database\n",
    "connection = sqlite3.connect('example.db')  # Creates a new database file named 'example.db' if it doesn't exist.\n",
    "\n",
    "# Step 2: Create a cursor object\n",
    "cursor = connection.cursor()  # Cursor allows you to execute SQL commands.\n",
    "\n",
    "# Step 3: Create a table\n",
    "create_table_query = '''\n",
    "CREATE TABLE IF NOT EXISTS users (\n",
    "    id INTEGER PRIMARY KEY AUTOINCREMENT,\n",
    "    name TEXT NOT NULL,\n",
    "    age INTEGER NOT NULL\n",
    ");\n",
    "'''\n",
    "cursor.execute(create_table_query)  # Execute the create table SQL command.\n",
    "\n",
    "# Step 4: Insert data into the table\n",
    "insert_query = '''\n",
    "INSERT INTO users (name, age) VALUES (?, ?);\n",
    "'''\n",
    "cursor.execute(insert_query, ('Alice', 30))  # Insert a record for Alice.\n",
    "cursor.execute(insert_query, ('Bob', 25))    # Insert a record for Bob.\n",
    "\n",
    "# Step 5: Commit the changes\n",
    "connection.commit()  # Save the changes to the database.\n",
    "\n",
    "# Step 6: Close the connection\n",
    "connection.close()  # Close the connection to the database.\n"
   ]
  },
  {
   "cell_type": "markdown",
   "id": "e5eba7de-f32f-4ffb-88d1-f8c444b7607f",
   "metadata": {},
   "source": [
    "A cursor is an object that allows you to execute SQL commands. You can think of it as a pointer that allows you to interact with the database"
   ]
  },
  {
   "cell_type": "markdown",
   "id": "42c95228-a4a0-4631-8add-2dec63c6da51",
   "metadata": {},
   "source": [
    "Finally, you close the database connection to free up resources. It’s good practice to always close the connection when done."
   ]
  },
  {
   "cell_type": "code",
   "execution_count": null,
   "id": "97a54912-f8a9-46dd-985f-4980ee1fe9eb",
   "metadata": {},
   "outputs": [],
   "source": []
  },
  {
   "cell_type": "code",
   "execution_count": null,
   "id": "592fb8b2-5855-4029-a35c-b0fe9dbd23d1",
   "metadata": {},
   "outputs": [],
   "source": []
  },
  {
   "cell_type": "code",
   "execution_count": null,
   "id": "153c65c7-677b-4a49-ab9b-76c72b001a5e",
   "metadata": {},
   "outputs": [],
   "source": []
  },
  {
   "cell_type": "code",
   "execution_count": null,
   "id": "a0ea7d32-2e5a-46c4-af25-6712692648be",
   "metadata": {},
   "outputs": [],
   "source": []
  },
  {
   "cell_type": "code",
   "execution_count": null,
   "id": "1ed1b874-4a5c-44ff-a1dc-f56c492eb004",
   "metadata": {},
   "outputs": [],
   "source": []
  },
  {
   "cell_type": "code",
   "execution_count": null,
   "id": "1830f36a-4eed-45db-88d9-8f41a0a6723e",
   "metadata": {},
   "outputs": [],
   "source": []
  }
 ],
 "metadata": {
  "kernelspec": {
   "display_name": "Python 3 (ipykernel)",
   "language": "python",
   "name": "python3"
  },
  "language_info": {
   "codemirror_mode": {
    "name": "ipython",
    "version": 3
   },
   "file_extension": ".py",
   "mimetype": "text/x-python",
   "name": "python",
   "nbconvert_exporter": "python",
   "pygments_lexer": "ipython3",
   "version": "3.12.4"
  }
 },
 "nbformat": 4,
 "nbformat_minor": 5
}
