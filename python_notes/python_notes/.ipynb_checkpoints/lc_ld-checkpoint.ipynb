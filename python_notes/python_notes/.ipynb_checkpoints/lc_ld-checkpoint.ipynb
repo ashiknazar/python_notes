{
 "cells": [
  {
   "cell_type": "markdown",
   "id": "53d103b3-f82e-46cd-845a-2f3f963d3dd0",
   "metadata": {},
   "source": [
    "```python \n",
    "value_if_true if condition else value_if_false\n"
   ]
  },
  {
   "cell_type": "code",
   "execution_count": 15,
   "id": "5e09474f-e77a-497e-b99e-4451469bad25",
   "metadata": {},
   "outputs": [
    {
     "name": "stdout",
     "output_type": "stream",
     "text": [
      "Even\n"
     ]
    }
   ],
   "source": [
    "number=4\n",
    "result = \"Even\" if number % 2 == 0 else \"Odd\"\n",
    "print(result)"
   ]
  },
  {
   "cell_type": "markdown",
   "id": "02c7c1fa-f0b4-4e90-8191-da4d3b242c64",
   "metadata": {},
   "source": [
    "```python\n",
    "value_if_condition1 if condition1 else value_if_condition2 if condition2 else value_if_condition3\n"
   ]
  },
  {
   "cell_type": "markdown",
   "id": "5fdb110b-6bae-4d01-ac7f-2017acdcbef3",
   "metadata": {},
   "source": [
    "```python\n",
    "value_if_condition1 if condition1 else \n",
    "value_if_condition2 if condition2 else \n",
    "value_if_condition3 if condition3 else value_if_condition4\r\n",
    "\n"
   ]
  },
  {
   "cell_type": "code",
   "execution_count": null,
   "id": "bb2ccab5-36e1-4345-b2be-0dca0d46f851",
   "metadata": {},
   "outputs": [],
   "source": [
    "result = (\n",
    "    \"Negative\" if number < 0 \n",
    "    else \"Zero\" if number == 0 \n",
    "    else \"Positive\" if number > 0 \n",
    "    else \"Greater than 100\" if number > 100 \n",
    "    else \"Between 1 and 100\"  # Will catch numbers between 1 and 100\n",
    ")\n"
   ]
  },
  {
   "cell_type": "code",
   "execution_count": null,
   "id": "f7b952c7-9fcb-401e-a0b0-fe8347f5d901",
   "metadata": {},
   "outputs": [],
   "source": [
    "number = 5\n",
    "result = \"Negative\" if number < 0 else \"Zero\" if number == 0 else \"Positive\"\n",
    "print(result)  # Output: Positive\n"
   ]
  },
  {
   "cell_type": "code",
   "execution_count": null,
   "id": "09d2d2dc-56e1-488d-ab6e-06ea6c1a8238",
   "metadata": {},
   "outputs": [],
   "source": []
  },
  {
   "cell_type": "code",
   "execution_count": null,
   "id": "3472f755-b7ee-4ac6-aee9-83cde74c33f6",
   "metadata": {},
   "outputs": [],
   "source": [
    "def classify_number(num):\n",
    "    return \"Negative\" if num < 0 else \"Zero\" if num == 0 else \"Positive\"\n",
    "\n",
    "print(classify_number(-10))  # Output: Negative\n",
    "print(classify_number(0))    # Output: Zero\n",
    "print(classify_number(10))   # Output: Positive\n"
   ]
  },
  {
   "cell_type": "code",
   "execution_count": null,
   "id": "21faa08a-4199-4087-91c6-47fe009d49c8",
   "metadata": {},
   "outputs": [],
   "source": []
  },
  {
   "cell_type": "code",
   "execution_count": null,
   "id": "900e98a6-9016-4484-982b-424b5c007b6c",
   "metadata": {},
   "outputs": [],
   "source": []
  },
  {
   "cell_type": "code",
   "execution_count": null,
   "id": "38119413-c291-4208-be73-0a74952f1f9a",
   "metadata": {},
   "outputs": [],
   "source": []
  },
  {
   "cell_type": "code",
   "execution_count": null,
   "id": "c39cec7e-069f-4132-9a74-7f41aaea0d33",
   "metadata": {},
   "outputs": [],
   "source": []
  },
  {
   "cell_type": "code",
   "execution_count": null,
   "id": "e6b73213-a40a-4c40-a8f2-8eeb94bab8a1",
   "metadata": {},
   "outputs": [],
   "source": []
  },
  {
   "cell_type": "code",
   "execution_count": null,
   "id": "14c525b3-16f7-4b1f-b059-f67b4487ac20",
   "metadata": {},
   "outputs": [],
   "source": []
  },
  {
   "cell_type": "code",
   "execution_count": null,
   "id": "6d9d2335-c14d-4f8d-a3a0-dc8286d815da",
   "metadata": {},
   "outputs": [],
   "source": []
  },
  {
   "cell_type": "markdown",
   "id": "48c85207-3704-49a7-96cd-7ce4e8734dab",
   "metadata": {},
   "source": [
    "List comprehension in Python is a concise way to create lists. It allows you to generate a new list by applying an expression to each item in an existing iterable (like a list or range) and can include an optional condition"
   ]
  },
  {
   "cell_type": "markdown",
   "id": "4d11aeb0-573f-4d25-92c7-0520f3c61df7",
   "metadata": {},
   "source": [
    "```python\n",
    "\n",
    "new_list = [expression for item in iterable if condition]\n"
   ]
  },
  {
   "cell_type": "code",
   "execution_count": 2,
   "id": "e9091ab1-e891-4ba1-8b65-fea470817ae1",
   "metadata": {},
   "outputs": [
    {
     "name": "stdout",
     "output_type": "stream",
     "text": [
      "[0, 1, 4, 9, 16, 25, 36, 49, 64, 81]\n"
     ]
    }
   ],
   "source": [
    "squares = [x**2 for x in range(10)]\n",
    "print(squares)  # Output: [0, 1, 4, 9, 16, 25, 36, 49, 64, 81]\n"
   ]
  },
  {
   "cell_type": "code",
   "execution_count": 4,
   "id": "06ee524c-b43e-477a-a888-5a724ec301c7",
   "metadata": {},
   "outputs": [
    {
     "name": "stdout",
     "output_type": "stream",
     "text": [
      "[0, 2, 4, 6, 8]\n"
     ]
    }
   ],
   "source": [
    "evens = [x for x in range(10) if x % 2 == 0]\n",
    "print(evens)  # Output: [0, 2, 4, 6, 8]\n"
   ]
  },
  {
   "cell_type": "code",
   "execution_count": 6,
   "id": "a016761d-8055-4bb8-b32e-0b921957ce22",
   "metadata": {},
   "outputs": [
    {
     "name": "stdout",
     "output_type": "stream",
     "text": [
      "[5, 5]\n"
     ]
    }
   ],
   "source": [
    "sentence = \"Hello world\"\n",
    "word_lengths = [len(word) for word in sentence.split()]\n",
    "print(word_lengths)  # Output: [5, 5]\n"
   ]
  },
  {
   "cell_type": "code",
   "execution_count": 8,
   "id": "6aa53ddd-8cf4-4ab2-8425-6288ff294245",
   "metadata": {},
   "outputs": [
    {
     "name": "stdout",
     "output_type": "stream",
     "text": [
      "[1, 2, 3, 4, 5, 6, 7, 8, 9]\n"
     ]
    }
   ],
   "source": [
    "matrix = [[1, 2, 3], [4, 5], [6, 7, 8, 9]]\n",
    "flat_list = [num for row in matrix for num in row]\n",
    "print(flat_list)  # Output: [1, 2, 3, 4, 5, 6, 7, 8, 9]\n"
   ]
  },
  {
   "cell_type": "markdown",
   "id": "f41496f9-ba7c-4eb6-a997-eb48baaf6fff",
   "metadata": {},
   "source": [
    "- For each row in matrix (the outer loop),\n",
    "- For each num in row (the inner loop),\n",
    "- Include num in the resulting list."
   ]
  },
  {
   "cell_type": "markdown",
   "id": "08187398-c53c-4d6f-b898-9fdf9cd0646c",
   "metadata": {},
   "source": [
    "\n",
    "### lambda expression"
   ]
  },
  {
   "cell_type": "markdown",
   "id": "6263f5fb-0600-4a7d-b91f-e6330033fdd9",
   "metadata": {},
   "source": [
    " A lambda expression in Python is a small, anonymous function defined with the lambda keyword. It can take any number of arguments but can only have one expression. This makes it useful for simple operations or for passing functions as arguments to higher-order functions."
   ]
  },
  {
   "cell_type": "markdown",
   "id": "fe906f17-17ce-4acb-9add-c6d58e672acb",
   "metadata": {},
   "source": [
    "```python\n",
    "lambda arguments: expression\n"
   ]
  },
  {
   "cell_type": "code",
   "execution_count": 26,
   "id": "21c1cb9b-63d6-4dc5-8a82-dc92b79887ce",
   "metadata": {},
   "outputs": [
    {
     "name": "stdout",
     "output_type": "stream",
     "text": [
      "15\n"
     ]
    }
   ],
   "source": [
    "# A simple lambda function that adds 10 to a given number\n",
    "add_ten = lambda x: x + 10\n",
    "\n",
    "print(add_ten(5))  # Output: 15\n"
   ]
  },
  {
   "cell_type": "markdown",
   "id": "63df0568-de33-434e-b912-21417b81d112",
   "metadata": {},
   "source": [
    "1. Anonymous: Lambda functions don’t have a name unless you assign them to a variable.\n",
    "2. Single Expression: They can only contain a single expression, which is evaluated and returned. No statements or multiple expressions are allowed.\n",
    "   "
   ]
  },
  {
   "cell_type": "code",
   "execution_count": 28,
   "id": "c63efdd1-c497-49e3-88d3-a0425cb22e42",
   "metadata": {},
   "outputs": [
    {
     "name": "stdout",
     "output_type": "stream",
     "text": [
      "10\n"
     ]
    }
   ],
   "source": [
    "# Using a lambda function directly as an argument\n",
    "result = (lambda x: x * 2)(5)\n",
    "\n",
    "print(result)  # Output: 10\n"
   ]
  },
  {
   "cell_type": "markdown",
   "id": "749c4fdd-3343-4f3c-bd56-3c4e0c436075",
   "metadata": {},
   "source": [
    "- The lambda function lambda x: x * 2 is defined and called immediately with the argument 5.\n",
    "- Since we didn’t assign the lambda to a variable, it remains unnamed (anonymous).\n",
    "- "
   ]
  },
  {
   "cell_type": "markdown",
   "id": "b9ee6d2d-82bc-4e8e-b6be-3f72e9857768",
   "metadata": {},
   "source": [
    "1. <b>Assigning a Lambda to a Variable </b><br>\n",
    "When you assign a lambda expression to a variable, you are creating a named function:"
   ]
  },
  {
   "cell_type": "code",
   "execution_count": 34,
   "id": "7a7b9533-59d4-4cc2-ae3f-e5fedb448883",
   "metadata": {},
   "outputs": [
    {
     "name": "stdout",
     "output_type": "stream",
     "text": [
      "10\n"
     ]
    }
   ],
   "source": [
    "# Assigning a lambda to a variable\n",
    "double = lambda x: x * 2\n",
    "\n",
    "# Now `double` is a named function\n",
    "result = double(5)  # Call the named lambda function\n",
    "print(result)  # Output: 10\n"
   ]
  },
  {
   "cell_type": "markdown",
   "id": "102142e4-227a-438c-bd65-3f8f23aeacb3",
   "metadata": {},
   "source": [
    "2. <b>Using a Lambda Expression Directly</b><br>\n",
    "   When you define a lambda function and call it immediately without assigning it to a variable, it’s considered an anonymous function:"
   ]
  },
  {
   "cell_type": "code",
   "execution_count": 37,
   "id": "158665a1-eb52-4fca-bc38-f0459e476d7f",
   "metadata": {},
   "outputs": [
    {
     "name": "stdout",
     "output_type": "stream",
     "text": [
      "10\n"
     ]
    }
   ],
   "source": [
    "# Using a lambda expression directly\n",
    "result = (lambda x: x * 2)(5)\n",
    "\n",
    "print(result)  # Output: 10\n"
   ]
  },
  {
   "cell_type": "markdown",
   "id": "49fbfe77-78a1-4091-9fda-b581415747ea",
   "metadata": {},
   "source": [
    "<b>Immediate Invocation:</b><br>\n",
    "\n",
    "To call the lambda function immediately, you place parentheses () after the lambda expression and provide the arguments inside those parentheses.\n",
    "\n",
    "- Presence of Parentheses:<br>\n",
    "The parentheses () are what trigger the execution of the lambda function. Without them, you only have the function definition.\n"
   ]
  },
  {
   "cell_type": "markdown",
   "id": "f723b8c5-5171-4934-a50b-9fe93453d934",
   "metadata": {},
   "source": [
    "#### defenition"
   ]
  },
  {
   "cell_type": "code",
   "execution_count": 45,
   "id": "eaaf9cd5-cb75-4543-b9bf-7e98a3c5d350",
   "metadata": {},
   "outputs": [],
   "source": [
    "result = (lambda x: x * 5)\n"
   ]
  },
  {
   "cell_type": "code",
   "execution_count": 47,
   "id": "3fe5ebc5-4968-4585-959c-8ba236cbebf3",
   "metadata": {},
   "outputs": [
    {
     "name": "stdout",
     "output_type": "stream",
     "text": [
      "15\n"
     ]
    }
   ],
   "source": [
    "print(result(3))"
   ]
  },
  {
   "cell_type": "code",
   "execution_count": null,
   "id": "ed118728-8e90-4949-9e45-699ec2944b61",
   "metadata": {},
   "outputs": [],
   "source": []
  }
 ],
 "metadata": {
  "kernelspec": {
   "display_name": "Python 3 (ipykernel)",
   "language": "python",
   "name": "python3"
  },
  "language_info": {
   "codemirror_mode": {
    "name": "ipython",
    "version": 3
   },
   "file_extension": ".py",
   "mimetype": "text/x-python",
   "name": "python",
   "nbconvert_exporter": "python",
   "pygments_lexer": "ipython3",
   "version": "3.12.4"
  }
 },
 "nbformat": 4,
 "nbformat_minor": 5
}
