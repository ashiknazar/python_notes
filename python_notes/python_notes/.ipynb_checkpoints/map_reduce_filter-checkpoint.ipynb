{
 "cells": [
  {
   "cell_type": "markdown",
   "id": "02d33191-46a9-4d0a-9851-afd421e1f850",
   "metadata": {},
   "source": [
    "### map function"
   ]
  },
  {
   "cell_type": "markdown",
   "id": "7b47fdbc-8014-46a0-93cf-03452e1b774a",
   "metadata": {},
   "source": [
    "```python\n",
    "map(function, iterable)\n"
   ]
  },
  {
   "cell_type": "code",
   "execution_count": 5,
   "id": "43ed7dde-eec4-4792-9088-495e5bdea90b",
   "metadata": {},
   "outputs": [
    {
     "name": "stdout",
     "output_type": "stream",
     "text": [
      "[1, 4, 9, 16]\n"
     ]
    }
   ],
   "source": [
    "numbers = [1, 2, 3, 4]\n",
    "squared = list(map(lambda x: x ** 2, numbers))\n",
    "print(squared)  # Output: [1, 4, 9, 16]\n"
   ]
  },
  {
   "cell_type": "markdown",
   "id": "4013b348-d8e8-40fd-9708-6661582fa383",
   "metadata": {},
   "source": [
    "-  numbers is not an argument to the lambda function. It is the iterable that the map() function operates on."
   ]
  },
  {
   "cell_type": "markdown",
   "id": "2c0bd752-5c07-4522-b946-e708b92e8ef4",
   "metadata": {},
   "source": [
    "### filter function"
   ]
  },
  {
   "cell_type": "markdown",
   "id": "a7b03b7d-1897-4a12-9039-9f73e8c3742e",
   "metadata": {},
   "source": [
    "```python\n",
    "filter(function, iterable)\n"
   ]
  },
  {
   "cell_type": "markdown",
   "id": "e0fc78cd-ec74-48fa-98c2-6241828cb384",
   "metadata": {},
   "source": [
    "- The filter() function creates a list of elements for which a function returns true. In other words, it filters the iterable based on a condition."
   ]
  },
  {
   "cell_type": "code",
   "execution_count": 17,
   "id": "da5f44f0-4d88-4b3f-bbb3-3f74f0a5b018",
   "metadata": {},
   "outputs": [
    {
     "name": "stdout",
     "output_type": "stream",
     "text": [
      "[2, 4]\n"
     ]
    }
   ],
   "source": [
    "numbers = [1, 2, 3, 4]\n",
    "evens = list(filter(lambda x: x % 2 == 0, numbers))\n",
    "print(evens)  # Output: [2, 4]\n"
   ]
  },
  {
   "cell_type": "markdown",
   "id": "49ffdde0-5a44-433a-ad8b-35733bdcb9f2",
   "metadata": {},
   "source": [
    "### reduce"
   ]
  },
  {
   "cell_type": "code",
   "execution_count": 24,
   "id": "1879de4c-b42c-45a9-a27e-f56c98711750",
   "metadata": {},
   "outputs": [],
   "source": [
    "from functools import reduce"
   ]
  },
  {
   "cell_type": "markdown",
   "id": "8b9db19c-e271-48d3-ac5f-e31e23cfa09d",
   "metadata": {},
   "source": [
    "```python\n",
    "reduce(function, iterable)"
   ]
  },
  {
   "cell_type": "markdown",
   "id": "c50a49ca-14cf-4cb3-96eb-7053040f13f2",
   "metadata": {},
   "source": [
    "- The reduce() function, which is part of the functools module, reduces an iterable to a single cumulative value by applying a function to the items of the iterable in a pairwise manner."
   ]
  },
  {
   "cell_type": "code",
   "execution_count": 28,
   "id": "52e52030-ae68-4a0f-a409-d3ab92ad8c8a",
   "metadata": {},
   "outputs": [
    {
     "name": "stdout",
     "output_type": "stream",
     "text": [
      "24\n"
     ]
    }
   ],
   "source": [
    "from functools import reduce\n",
    "\n",
    "numbers = [1, 2, 3, 4]\n",
    "product = reduce(lambda x, y: x * y, numbers)\n",
    "print(product)  # Output: 24 (1 * 2 * 3 * 4)\n"
   ]
  },
  {
   "cell_type": "code",
   "execution_count": null,
   "id": "d74cad70-eab3-4046-8d32-561a029c0348",
   "metadata": {},
   "outputs": [],
   "source": []
  }
 ],
 "metadata": {
  "kernelspec": {
   "display_name": "Python 3 (ipykernel)",
   "language": "python",
   "name": "python3"
  },
  "language_info": {
   "codemirror_mode": {
    "name": "ipython",
    "version": 3
   },
   "file_extension": ".py",
   "mimetype": "text/x-python",
   "name": "python",
   "nbconvert_exporter": "python",
   "pygments_lexer": "ipython3",
   "version": "3.12.4"
  }
 },
 "nbformat": 4,
 "nbformat_minor": 5
}
