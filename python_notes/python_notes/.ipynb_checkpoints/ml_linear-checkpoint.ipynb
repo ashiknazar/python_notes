{
 "cells": [
  {
   "cell_type": "code",
   "execution_count": 4,
   "id": "328c60d6-4015-4f8d-9169-c6c334650884",
   "metadata": {},
   "outputs": [
    {
     "name": "stdout",
     "output_type": "stream",
     "text": [
      "Predictions: [12.2, 14.400000000000002, 16.6]\n"
     ]
    }
   ],
   "source": [
    "class LinearRegression:\n",
    "    def __init__(self):\n",
    "        self.slope = 0\n",
    "        self.intercept = 0\n",
    "\n",
    "    def fit(self, X, y):\n",
    "        n = len(X)\n",
    "        x_mean = sum(X) / n\n",
    "        y_mean = sum(y) / n\n",
    "\n",
    "        # Calculate the slope (b1)\n",
    "        numerator = sum((X[i] - x_mean) * (y[i] - y_mean) for i in range(n))\n",
    "        denominator = sum((X[i] - x_mean) ** 2 for i in range(n))\n",
    "        self.slope = numerator / denominator\n",
    "        \n",
    "        # Calculate the intercept (b0)\n",
    "        self.intercept = y_mean - self.slope * x_mean\n",
    "\n",
    "    def predict(self, X):\n",
    "        return [self.slope * x + self.intercept for x in X]\n",
    "\n",
    "\n",
    "if __name__ == \"__main__\":\n",
    "    # Sample data\n",
    "    X = [1, 2, 3, 4, 5]\n",
    "    y = [2, 3, 5, 7, 11]\n",
    "\n",
    "    # Create and train the model\n",
    "    model = LinearRegression()\n",
    "    model.fit(X, y)\n",
    "\n",
    "    # Make predictions\n",
    "    X_new = [6, 7, 8]\n",
    "    predictions = model.predict(X_new)\n",
    "\n",
    "    print(\"Predictions:\", predictions)\n"
   ]
  },
  {
   "cell_type": "markdown",
   "id": "d6d54198-f53f-4593-bab3-e1f10887ac5a",
   "metadata": {},
   "source": [
    "# Linear Regression Equations\r\n",
    "\r\n",
    "## Mean Calculation\r\n",
    "\r\n",
    "The mean of \\(X\\) and \\(y\\) is calculated as follows:\r\n",
    "\r\n",
    "$$\r\n",
    "\\bar{x} = \\frac{1}{n} \\sum_{i=1}^{n} x_i\r\n",
    "$$\r\n",
    "\r\n",
    "$$\r\n",
    "\\bar{y} = \\frac{1}{n} \\sum_{i=1}^{n} y_i\r\n",
    "$$\r\n",
    "\r\n",
    "## Slope Calculation\r\n",
    "\r\n",
    "The slope (\\(b_1\\)) of the linear regression line is given by:\r\n",
    "\r\n",
    "$$\r\n",
    "b_1 = \\frac{\\sum_{i=1}^{n} (x_i - \\bar{x})(y_i - \\bar{y})}{\\sum_{i=1}^{n} (x_i - \\bar{x})^2}\r\n",
    "$$\r\n",
    "\r\n",
    "## Intercept Calculation\r\n",
    "\r\n",
    "The intercept (\\(b_0\\)) is calculated using the means:\r\n",
    "\r\n",
    "$$\r\n",
    "b_0 = \\bar{y} - b_1 \\cdot \\bar{x}\r\n",
    "$$\r\n",
    "\r\n",
    "## Prediction Equation\r\n",
    "\r\n",
    "The predicted value (\\(\\hat{y}\\)) for a given \\(x\\) is:\r\n",
    "\r\n",
    "$$\r\n",
    "\\hat{y} = b_0 + b_1 \\cdot x\r\n",
    "$$\r\n"
   ]
  },
  {
   "cell_type": "code",
   "execution_count": null,
   "id": "6cca375d-5f58-4593-84b4-ea7fc4823cc4",
   "metadata": {},
   "outputs": [],
   "source": []
  },
  {
   "cell_type": "code",
   "execution_count": null,
   "id": "da909ef5-f082-416a-956b-3e8a077d78db",
   "metadata": {},
   "outputs": [],
   "source": []
  },
  {
   "cell_type": "code",
   "execution_count": 6,
   "id": "536fa2ee-a72a-4a47-a680-cd5244e2a6e5",
   "metadata": {},
   "outputs": [
    {
     "data": {
      "image/png": "[encoded data removed]",
      "text/plain": [
       "<Figure size 640x480 with 1 Axes>"
      ]
     },
     "metadata": {},
     "output_type": "display_data"
    }
   ],
   "source": [
    "import matplotlib.pyplot as plt\n",
    "\n",
    "# Sample data\n",
    "X = [1, 2, 3, 4, 5]\n",
    "y = [2, 3, 5, 7, 11]\n",
    "\n",
    "# Create a scatter plot\n",
    "plt.scatter(X, y, color='blue', label='Data Points')\n",
    "\n",
    "# Optional: Plot the linear regression line\n",
    "# Fit the linear regression model\n",
    "model = LinearRegression()\n",
    "model.fit(X, y)\n",
    "\n",
    "# Generate predictions for the line\n",
    "X_line = [min(X), max(X)]\n",
    "y_line = [model.predict([x])[0] for x in X_line]\n",
    "\n",
    "# Plot the regression line\n",
    "plt.plot(X_line, y_line, color='red', label='Regression Line')\n",
    "\n",
    "# Add labels and title\n",
    "plt.xlabel('X')\n",
    "plt.ylabel('y')\n",
    "plt.title('Linear Regression')\n",
    "plt.legend()\n",
    "plt.grid()\n",
    "\n",
    "# Show the plot\n",
    "plt.show()\n"
   ]
  },
  {
   "cell_type": "code",
   "execution_count": null,
   "id": "bac65c69-0021-4d97-8823-1d2e59a2fe1a",
   "metadata": {},
   "outputs": [],
   "source": []
  },
  {
   "cell_type": "code",
   "execution_count": null,
   "id": "dc6bef8d-e669-4625-973b-e5b4206729fa",
   "metadata": {},
   "outputs": [],
   "source": []
  },
  {
   "cell_type": "code",
   "execution_count": null,
   "id": "f48e67d8-d29f-438f-9f40-b29522c45abf",
   "metadata": {},
   "outputs": [],
   "source": []
  },
  {
   "cell_type": "markdown",
   "id": "4c1aec5e-20d1-4f08-98dc-e0abe0a3ebe4",
   "metadata": {},
   "source": [
    "\n",
    "## Step 1: Define the `LinearRegression` Class in `linear.py`\n",
    "\n",
    "In `linear.py`, define your `LinearRegression` class with `fit` and `predict` methods:\n",
    "\n",
    "```python\n",
    "\n",
    "\n",
    "\n",
    "\n",
    "# linear.py\n",
    "\n",
    "class LinearRegression:\n",
    "    def __init__(self):\n",
    "        # Initialize any variables you need\n",
    "        pass\n",
    "\n",
    "    def fit(self, X, y):\n",
    "        \"\"\"\n",
    "        Fit the linear regression model on training data.\n",
    "\n",
    "        Parameters:\n",
    "        - X: array-like, shape (n_samples, n_features)\n",
    "        - y: array-like, shape (n_samples,)\n",
    "\n",
    "        Returns:\n",
    "        - self: object\n",
    "        \"\"\"\n",
    "        # Code to train your linear regression model\n",
    "        pass\n",
    "\n",
    "    def predict(self, X):\n",
    "        \"\"\"\n",
    "        Predict target values for X.\n",
    "\n",
    "        Parameters:\n",
    "        - X: array-like, shape (n_samples, n_features)\n",
    "\n",
    "        Returns:\n",
    "        - y_pred: array, shape (n_samples,)\n",
    "        \"\"\"\n",
    "        # Code to make predictions based on your trained model\n",
    "        pass\n"
   ]
  },
  {
   "cell_type": "markdown",
   "id": "80d60107-028d-43c4-a26f-9d4399ac8923",
   "metadata": {},
   "source": [
    "# another_file.py\n",
    "\n",
    "from linear import LinearRegression  # Import the class from linear.py\n",
    "\n",
    "# Create an instance of the LinearRegression class\n",
    "model = LinearRegression()\n",
    "\n",
    "# Sample data (replace with your own dataset)\n",
    "X_train = [[1], [2], [3]]  # Feature data for training\n",
    "y_train = [2, 4, 6]        # Target data for training\n",
    "\n",
    "X_test = [[4], [5]]        # Feature data for testing\n",
    "\n",
    "# Fit the model with training data\n",
    "model.fit(X_train, y_train)\n",
    "\n",
    "# Make predictions\n",
    "predictions = model.predict(X_test)\n",
    "\n",
    "print(\"Predictions:\", predictions)\n"
   ]
  },
  {
   "cell_type": "code",
   "execution_count": null,
   "id": "c85dbde1-c7f4-4467-ad5f-07c86c68bcee",
   "metadata": {},
   "outputs": [],
   "source": []
  },
  {
   "cell_type": "code",
   "execution_count": null,
   "id": "a703f433-edeb-4b52-a706-4afce2ddc924",
   "metadata": {},
   "outputs": [],
   "source": []
  },
  {
   "cell_type": "code",
   "execution_count": null,
   "id": "e78a0177-a4b9-4384-864e-6eb2089dc850",
   "metadata": {},
   "outputs": [],
   "source": []
  }
 ],
 "metadata": {
  "kernelspec": {
   "display_name": "Python 3 (ipykernel)",
   "language": "python",
   "name": "python3"
  },
  "language_info": {
   "codemirror_mode": {
    "name": "ipython",
    "version": 3
   },
   "file_extension": ".py",
   "mimetype": "text/x-python",
   "name": "python",
   "nbconvert_exporter": "python",
   "pygments_lexer": "ipython3",
   "version": "3.12.4"
  }
 },
 "nbformat": 4,
 "nbformat_minor": 5
}
