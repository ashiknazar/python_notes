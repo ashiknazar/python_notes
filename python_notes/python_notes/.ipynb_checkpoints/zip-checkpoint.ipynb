{
 "cells": [
  {
   "cell_type": "markdown",
   "id": "4f2aa559-9bce-41ad-9caa-c38e006896ce",
   "metadata": {},
   "source": [
    "### zip"
   ]
  },
  {
   "cell_type": "markdown",
   "id": "4028e68b-e816-4f6c-a2a3-2817368ab433",
   "metadata": {},
   "source": [
    "- The zip() function in Python is used to combine multiple iterables (like lists or tuples) into a single iterable of tuples. Each tuple contains elements from the input iterables at the same position."
   ]
  },
  {
   "cell_type": "markdown",
   "id": "d59b88aa-8e14-4611-b492-cb7b31672d6f",
   "metadata": {},
   "source": [
    "```python\n",
    "zip(iterable1, iterable2, ...)\n"
   ]
  },
  {
   "cell_type": "code",
   "execution_count": 14,
   "id": "dc5d21a3-1b49-4b17-99de-a626aa81d098",
   "metadata": {},
   "outputs": [
    {
     "name": "stdout",
     "output_type": "stream",
     "text": [
      "[('Alice', 25), ('Bob', 30)]\n"
     ]
    }
   ],
   "source": [
    "names = [\"Alice\", \"Bob\", \"Charlie\"]\n",
    "ages = [25, 30]  # Only two ages\n",
    "\n",
    "combined = zip(names, ages)\n",
    "combined_list = list(combined)\n",
    "print(combined_list)  # Output: [('Alice', 25), ('Bob', 30)]\n"
   ]
  },
  {
   "cell_type": "code",
   "execution_count": 7,
   "id": "4b219e0f-fce0-4d76-b205-39e98348e201",
   "metadata": {},
   "outputs": [
    {
     "name": "stdout",
     "output_type": "stream",
     "text": [
      "1 3\n",
      "2 4\n",
      "3 7\n",
      "4 8\n"
     ]
    }
   ],
   "source": [
    "c = [1, 2, 3, 4]\n",
    "d = [3, 4, 7, 8]\n",
    "\n",
    "# Using zip to combine c and d\n",
    "for a, b in zip(c, d):\n",
    "    print(a, b)\n"
   ]
  },
  {
   "cell_type": "code",
   "execution_count": 1,
   "id": "0d958ec4-0f0f-44a5-a15f-418e431c52e5",
   "metadata": {},
   "outputs": [
    {
     "name": "stdout",
     "output_type": "stream",
     "text": [
      "('Alice', 'Bob', 'Charlie')\n",
      "(25, 30, 35)\n"
     ]
    }
   ],
   "source": [
    "# Original combined list\n",
    "combined_list = [('Alice', 25), ('Bob', 30), ('Charlie', 35)]\n",
    "\n",
    "# Unzipping\n",
    "unzipped = zip(*combined_list)\n",
    "names_unzipped, ages_unzipped = list(unzipped)\n",
    "\n",
    "print(names_unzipped)  # Output: ['Alice', 'Bob', 'Charlie']\n",
    "print(ages_unzipped)   # Output: [25, 30, 35]\n"
   ]
  },
  {
   "cell_type": "code",
   "execution_count": null,
   "id": "1af937c3-af2f-42bf-97c8-e2e8db41cabd",
   "metadata": {},
   "outputs": [],
   "source": []
  },
  {
   "cell_type": "code",
   "execution_count": null,
   "id": "0d224f96-fd9c-483c-b86e-fa77888160a1",
   "metadata": {},
   "outputs": [],
   "source": []
  },
  {
   "cell_type": "code",
   "execution_count": null,
   "id": "95fbcea9-9c26-428f-b676-9fd2128451f3",
   "metadata": {},
   "outputs": [],
   "source": []
  },
  {
   "cell_type": "code",
   "execution_count": null,
   "id": "38f2ff67-f573-4b71-ab70-fd6bf8a19419",
   "metadata": {},
   "outputs": [],
   "source": []
  }
 ],
 "metadata": {
  "kernelspec": {
   "display_name": "Python 3 (ipykernel)",
   "language": "python",
   "name": "python3"
  },
  "language_info": {
   "codemirror_mode": {
    "name": "ipython",
    "version": 3
   },
   "file_extension": ".py",
   "mimetype": "text/x-python",
   "name": "python",
   "nbconvert_exporter": "python",
   "pygments_lexer": "ipython3",
   "version": "3.12.4"
  }
 },
 "nbformat": 4,
 "nbformat_minor": 5
}
