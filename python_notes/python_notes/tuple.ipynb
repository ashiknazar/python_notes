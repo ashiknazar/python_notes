{
 "cells": [
  {
   "cell_type": "markdown",
   "metadata": {},
   "source": [
    "#### Here are some real-time use cases where tuples are particularly useful due to their immutability and efficiency:"
   ]
  },
  {
   "cell_type": "markdown",
   "metadata": {},
   "source": [
    "1. **Database Records**\n",
    "When retrieving rows from a database, each row is often represented as a tuple since its data should not be altered inadvertently.\n"
   ]
  },
  {
   "cell_type": "code",
   "execution_count": 1,
   "metadata": {},
   "outputs": [
    {
     "name": "stdout",
     "output_type": "stream",
     "text": [
      "ID: 1, Name: Alice, Role: Manager\n",
      "ID: 2, Name: Bob, Role: Developer\n"
     ]
    }
   ],
   "source": [
    "db_records = [(1, \"Alice\", \"Manager\"), (2, \"Bob\", \"Developer\")]\n",
    "for record in db_records:\n",
    "    print(f\"ID: {record[0]}, Name: {record[1]}, Role: {record[2]}\")\n"
   ]
  },
  {
   "cell_type": "markdown",
   "metadata": {},
   "source": [
    "2. **Function Arguments**\n",
    "Tuples are commonly used to return multiple values from a function in an immutable way."
   ]
  },
  {
   "cell_type": "code",
   "execution_count": 2,
   "metadata": {},
   "outputs": [
    {
     "name": "stdout",
     "output_type": "stream",
     "text": [
      "Latitude: 40.7128, Longitude: 74.006\n"
     ]
    }
   ],
   "source": [
    "def get_coordinates():\n",
    "    return (40.7128, 74.0060)  # Latitude and longitude of New York\n",
    "\n",
    "location = get_coordinates()\n",
    "print(f\"Latitude: {location[0]}, Longitude: {location[1]}\")\n"
   ]
  },
  {
   "cell_type": "code",
   "execution_count": 3,
   "metadata": {},
   "outputs": [
    {
     "name": "stdout",
     "output_type": "stream",
     "text": [
      "Cannot modify tuple: 'tuple' object does not support item assignment\n",
      "New location: (34.0522, 118.2437)\n",
      "Original location (unchanged): (40.7128, 74.006)\n"
     ]
    }
   ],
   "source": [
    "def get_coordinates():\n",
    "    return (40.7128, 74.0060)  # Latitude and longitude of New York\n",
    "\n",
    "# Step 1: Get the tuple\n",
    "location = get_coordinates()\n",
    "\n",
    "# Step 2: Try modifying the tuple\n",
    "try:\n",
    "    location[0] = 41.0000  # Attempting to change latitude\n",
    "except TypeError as e:\n",
    "    print(f\"Cannot modify tuple: {e}\")\n",
    "\n",
    "# Step 3: Reassign the variable\n",
    "location = (34.0522, 118.2437)  # Assigning new coordinates (Los Angeles)\n",
    "print(f\"New location: {location}\")\n",
    "\n",
    "# Step 4: Show that the original tuple from the function remains the same\n",
    "original_location = get_coordinates()\n",
    "print(f\"Original location (unchanged): {original_location}\")\n"
   ]
  },
  {
   "cell_type": "markdown",
   "metadata": {},
   "source": [
    "3. **Immutable Keys in Dictionaries**\n",
    "Tuples can be used as keys in dictionaries because they are hashable (immutable), whereas lists cannot.\n",
    "\n",
    "Example:"
   ]
  },
  {
   "cell_type": "code",
   "execution_count": 4,
   "metadata": {},
   "outputs": [
    {
     "name": "stdout",
     "output_type": "stream",
     "text": [
      "New York\n"
     ]
    }
   ],
   "source": [
    "geo_data = {\n",
    "    (40.7128, 74.0060): \"New York\",\n",
    "    (34.0522, 118.2437): \"Los Angeles\"\n",
    "}\n",
    "print(geo_data[(40.7128, 74.0060)])  # Output: New York\n"
   ]
  },
  {
   "cell_type": "markdown",
   "metadata": {},
   "source": [
    "4. **Fixed Configurations**\n",
    "Tuples are useful for defining fixed configuration values, such as RGB color codes or screen resolution, which should not be altered.\n",
    "\n",
    "Example:"
   ]
  },
  {
   "cell_type": "code",
   "execution_count": 5,
   "metadata": {},
   "outputs": [],
   "source": [
    "RGB_RED = (255, 0, 0)\n",
    "RGB_GREEN = (0, 255, 0)\n"
   ]
  },
  {
   "cell_type": "markdown",
   "metadata": {},
   "source": [
    "5. **Unpacking Multiple Values**\n",
    "Tuples are frequently used in scenarios requiring unpacking, such as when iterating over an enumerated collection or swapping values.\n",
    "\n",
    "Example:"
   ]
  },
  {
   "cell_type": "code",
   "execution_count": 6,
   "metadata": {},
   "outputs": [
    {
     "name": "stdout",
     "output_type": "stream",
     "text": [
      "10 5\n"
     ]
    }
   ],
   "source": [
    "a, b = 5, 10\n",
    "a, b = b, a  # Swapping values using tuple unpacking\n",
    "print(a, b)  # Output: 10, 5\n"
   ]
  },
  {
   "cell_type": "code",
   "execution_count": 8,
   "metadata": {},
   "outputs": [
    {
     "data": {
      "text/plain": [
       "tuple"
      ]
     },
     "execution_count": 8,
     "metadata": {},
     "output_type": "execute_result"
    }
   ],
   "source": [
    "a=5,10\n",
    "type(a)"
   ]
  },
  {
   "cell_type": "markdown",
   "metadata": {},
   "source": [
    "- it is tuple unpacking."
   ]
  },
  {
   "cell_type": "markdown",
   "metadata": {},
   "source": [
    "6. **Logging Fixed Data**"
   ]
  },
  {
   "cell_type": "code",
   "execution_count": 9,
   "metadata": {},
   "outputs": [
    {
     "name": "stdout",
     "output_type": "stream",
     "text": [
      "Log: ERROR - File not found at 2024-12-30 10:00:00\n"
     ]
    }
   ],
   "source": [
    "log_entry = (\"ERROR\", \"File not found\", \"2024-12-30 10:00:00\")\n",
    "print(f\"Log: {log_entry[0]} - {log_entry[1]} at {log_entry[2]}\")\n"
   ]
  },
  {
   "cell_type": "markdown",
   "metadata": {},
   "source": [
    "7. **Storing Immutable Groups of Related Data**"
   ]
  },
  {
   "cell_type": "code",
   "execution_count": 10,
   "metadata": {},
   "outputs": [],
   "source": [
    "coordinates = (52.5200, 13.4050)  # Berlin's latitude and longitude\n",
    "chess_move = (\"E2\", \"E4\")  # Move from E2 to E4\n"
   ]
  },
  {
   "cell_type": "markdown",
   "metadata": {},
   "source": [
    "8. **Caching and Memory Optimization**\n",
    "Since tuples are immutable and faster than lists, they are often used in scenarios involving caching or large-scale computations to reduce memory overhead."
   ]
  },
  {
   "cell_type": "code",
   "execution_count": 11,
   "metadata": {},
   "outputs": [],
   "source": [
    "cache = {\n",
    "    (2024, 12, 30): \"Special event data\"\n",
    "}\n",
    "# "
   ]
  },
  {
   "cell_type": "code",
   "execution_count": null,
   "metadata": {},
   "outputs": [],
   "source": []
  }
 ],
 "metadata": {
  "kernelspec": {
   "display_name": "base",
   "language": "python",
   "name": "python3"
  },
  "language_info": {
   "codemirror_mode": {
    "name": "ipython",
    "version": 3
   },
   "file_extension": ".py",
   "mimetype": "text/x-python",
   "name": "python",
   "nbconvert_exporter": "python",
   "pygments_lexer": "ipython3",
   "version": "3.12.7"
  }
 },
 "nbformat": 4,
 "nbformat_minor": 2
}
