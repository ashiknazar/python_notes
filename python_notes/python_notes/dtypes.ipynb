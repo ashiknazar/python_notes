{
 "cells": [
  {
   "cell_type": "markdown",
   "metadata": {},
   "source": [
    "# Data Types in Python\n",
    "\n",
    "Python has several built-in data types that help in organizing and manipulating data efficiently. Here’s a breakdown of the main data types:\n",
    "\n",
    "## 1. Numeric Types\n",
    "- **Integers (`int`)**: Whole numbers, e.g., `42`, `-5`.\n",
    "- **Floating-Point Numbers (`float`)**: Decimal numbers, e.g., `3.14`, `-0.001`.\n",
    "- **Complex Numbers (`complex`)**: Numbers with real and imaginary parts, e.g., `2 + 3j`.\n",
    "\n",
    "## 2. Sequence Types\n",
    "- **Strings (`str`)**: A sequence of characters, e.g., `\"Hello, World!\"`. *Immutable*.\n",
    "- **Lists (`list`)**: Ordered and mutable collections, e.g., `[1, 2, 3, \"apple\"]`.\n",
    "- **Tuples (`tuple`)**: Ordered and immutable collections, e.g., `(1, 2, 3)`.\n",
    "\n",
    "## 3. Mapping Types\n",
    "- **Dictionaries (`dict`)**: Unordered collections of key-value pairs, e.g., `{\"name\": \"Alice\", \"age\": 30}`.\n",
    "\n",
    "## 4. Set Types\n",
    "- **Sets (`set`)**: Unordered collections of unique items, e.g., `{1, 2, 3}`.\n",
    "- **Frozen Sets (`frozenset`)**: Immutable sets, useful as dictionary keys.\n",
    "\n",
    "## 5. Boolean Type\n",
    "- **Booleans (`bool`)**: Represents `True` or `False`, useful for conditions.\n",
    "\n",
    "## 6. None Type\n",
    "- **None (`NoneType`)**: Represents a null value, e.g., `result = None`.\n",
    "\n",
    "## Conclusion\n",
    "Understanding these data types allows for efficient data manipulation and better program design in Python.\n"
   ]
  },
  {
   "cell_type": "markdown",
   "metadata": {},
   "source": []
  }
 ],
 "metadata": {
  "kernelspec": {
   "display_name": "Python 3 (ipykernel)",
   "language": "python",
   "name": "python3"
  },
  "language_info": {
   "codemirror_mode": {
    "name": "ipython",
    "version": 3
   },
   "file_extension": ".py",
   "mimetype": "text/x-python",
   "name": "python",
   "nbconvert_exporter": "python",
   "pygments_lexer": "ipython3",
   "version": "3.12.4"
  }
 },
 "nbformat": 4,
 "nbformat_minor": 4
}
