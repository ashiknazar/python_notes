{
 "cells": [
  {
   "cell_type": "code",
   "execution_count": null,
   "id": "532fba9b-db50-4fa7-9bd4-61bbf628f8a9",
   "metadata": {},
   "outputs": [],
   "source": [
    "x=int(input(\"enter value\"))\n",
    "\n",
    "\n",
    "a=eval(input(\"\"))\n",
    "\n",
    "type(a)\n",
    "\n",
    "a=4\n",
    "b=4\n",
    "print(type(a))\n",
    "print(id(a))\n",
    "print(id(b))\n",
    "\n",
    "In Python, the eval() function is used to evaluate a string as a Python expression. It can execute expressions, but it should be used with caution, especially with untrusted input, due to security risks.\n",
    "\n",
    "# Basic arithmetic evaluation\n",
    "expression = \"3 + 5 * 2\"\n",
    "result = eval(expression)\n",
    "print(f\"The result of '{expression}' is: {result}\")\n",
    "\n",
    "\n",
    "# Using variables in the evaluation\n",
    "x = 10\n",
    "y = 20\n",
    "expression = \"x + y\"\n",
    "result = eval(expression)\n",
    "print(f\"The result of '{expression}' is: {result}\")\n",
    "\n",
    "\n",
    "# Evaluating a function call\n",
    "def square(n):\n",
    "    return n * n\n",
    "\n",
    "expression = \"square(4)\"\n",
    "result = eval(expression)\n",
    "print(f\"The result of '{expression}' is: {result}\")\n",
    "\n",
    "\n",
    "x\n",
    "\n",
    "type(x)\n",
    "\n",
    "a=\"string rsamp\"\n",
    "a.capitalize()\n",
    "\n",
    "a.find('r')\n",
    "\n",
    "a.index('r')\n",
    "\n",
    "Use find() when you want to handle cases where the substring might not be present without raising an error.\n",
    "Use index() when you expect the substring to be present and want to handle missing cases with exceptions.\n",
    "\n",
    "x=10\n",
    "print(bin(x))\n",
    "\n",
    "y=8\n",
    "\n",
    "print(x&y)\n",
    "\n",
    "10 in binary is 1010 <br>\n",
    "8 in binary is 1000 <br>\n",
    "1010  &  1000   =    1000\n",
    "\n",
    "\n",
    "txt=\"welcome {} to {}\".format(\"ab\",\"cd\")\n",
    "\n",
    "txt\n",
    "\n",
    "txt=\"welcome {b:10}\".format(b=40)\n",
    "txt\n",
    "\n",
    "txt=\"welcome {b:^10}\".format(b=40)\n",
    "txt\n",
    "\n",
    "The 10 specifies that the output should be right-aligned and take up a total of 10 character spaces.\n",
    "\n",
    "txt=\"welcome {b:<10}\".format(b=40)\n",
    "txt\n",
    "\n",
    "l=[1,2,3,4,5]\n",
    "\n",
    "del(l)\n",
    "\n",
    "l\n",
    "\n",
    "l.pop()\n",
    "l\n",
    "\n",
    "l.clear()\n",
    "\n",
    "l\n",
    "\n",
    "l.remove(5)\n",
    "\n",
    "l\n",
    "\n",
    "dic={1:\"ab\",2:\"cd\",3:\"ef\"}\n",
    "for i in dic:\n",
    "    print(i)\n",
    "\n",
    "for i in dic:\n",
    "    print(dic[i])\n",
    "\n",
    "dic.get(1)\n",
    "\n",
    "li=list(dic.values())\n",
    "\n",
    "li\n",
    "\n",
    "print(dic.items())\n",
    "\n",
    "print(dic.keys())\n",
    "\n",
    "print(dic.values())\n",
    "\n",
    "dic = {'a': 1, 'b': 2}\n",
    "dic1 = {'b': 3, 'c': 4}\n",
    "\n",
    "di = {**dic, **dic1}\n",
    "print(di)\n"
   ]
  },
  {
   "cell_type": "code",
   "execution_count": null,
   "id": "dfaf1886-0369-4455-9d1e-40e6f239f127",
   "metadata": {},
   "outputs": [],
   "source": []
  },
  {
   "cell_type": "code",
   "execution_count": null,
   "id": "d4a4249c-9adf-4073-b118-c9cd06e90274",
   "metadata": {},
   "outputs": [],
   "source": []
  },
  {
   "cell_type": "code",
   "execution_count": null,
   "id": "93c7314b-4aa6-49ca-a0a6-cefd8c4daf91",
   "metadata": {},
   "outputs": [],
   "source": []
  },
  {
   "cell_type": "code",
   "execution_count": null,
   "id": "669ef03e-90ca-4760-b6f7-1e31fa26e0c8",
   "metadata": {},
   "outputs": [],
   "source": []
  },
  {
   "cell_type": "code",
   "execution_count": null,
   "id": "028b1895-8a36-41fd-af26-fe931bf2fc68",
   "metadata": {},
   "outputs": [],
   "source": []
  },
  {
   "cell_type": "markdown",
   "id": "021ddee4-c236-4c42-a345-8964f523726a",
   "metadata": {},
   "source": [
    "## Encapsulation"
   ]
  },
  {
   "cell_type": "markdown",
   "id": "b1a9cef9-2819-43a0-a281-0eca393f3ca3",
   "metadata": {},
   "source": [
    "Encapsulation is a fundamental concept in object-oriented programming (OOP) that restricts direct access to some of an object's attributes and methods. In Python, encapsulation is primarily achieved through the use of private and protected members. Here’s a breakdown of how it works in Python:"
   ]
  },
  {
   "cell_type": "markdown",
   "id": "dae9d441-db99-43e8-9161-c22701adc76d",
   "metadata": {},
   "source": [
    "<b>Public Members</b>: Attributes and methods that can be accessed from anywhere in the program. They are defined without any leading underscores.\n",
    "\n",
    "<b>Protected Members</b>: Attributes and methods that are intended to be used within the class and its subclasses. They are defined with a single leading underscore (_).\n",
    "\n",
    "<b>Private Members</b>: Attributes and methods that cannot be accessed from outside the class. They are defined with double leading underscores (__). Python name-mangles these attributes to prevent accidental access."
   ]
  },
  {
   "cell_type": "markdown",
   "id": "113f7798-064a-4862-a4bd-b5e3f3e0f916",
   "metadata": {},
   "source": [
    "#### public attribute can be accessed from outside"
   ]
  },
  {
   "cell_type": "code",
   "execution_count": 11,
   "id": "58b35767-c897-47f8-9f5a-145f955a9e14",
   "metadata": {},
   "outputs": [
    {
     "name": "stdout",
     "output_type": "stream",
     "text": [
      "Name: Alice\n",
      "Age: 30\n",
      "Updated Name: Bob\n",
      "Updated Age: 35\n"
     ]
    }
   ],
   "source": [
    "class Person:\n",
    "    def __init__(self, name, age):\n",
    "        self.name = name  # Public attribute\n",
    "        self.age = age    # Public attribute\n",
    "\n",
    "\n",
    "\n",
    "\n",
    "# Create an instance of Person\n",
    "person = Person(\"Alice\", 30)\n",
    "\n",
    "# Accessing public attributes from outside the class\n",
    "print(\"Name:\", person.name)  # Outputs: Name: Alice\n",
    "print(\"Age:\", person.age)    # Outputs: Age: 30\n",
    "\n",
    "# Modifying public attributes\n",
    "person.name = \"Bob\"\n",
    "person.age = 35\n",
    "\n",
    "# Accessing modified attributes\n",
    "print(\"Updated Name:\", person.name)  # Outputs: Updated Name: Bob\n",
    "print(\"Updated Age:\", person.age)    # Outputs: Updated Age: 35\n"
   ]
  },
  {
   "cell_type": "markdown",
   "id": "93265af8-0d9b-49a7-9d00-e7e8109845dc",
   "metadata": {},
   "source": [
    "### cant access private variable outside class"
   ]
  },
  {
   "cell_type": "code",
   "execution_count": 1,
   "id": "33a17ead-76b9-4257-882a-962bfb05b19a",
   "metadata": {},
   "outputs": [
    {
     "name": "stdout",
     "output_type": "stream",
     "text": [
      "Deposited: 50\n",
      "Current Balance: 150\n",
      "Withdrew: 30\n",
      "Current Balance: 120\n",
      "Error: 'BankAccount' object has no attribute '__balance'\n"
     ]
    }
   ],
   "source": [
    "class BankAccount:\n",
    "    def __init__(self, owner, balance=0):\n",
    "        self.owner = owner           # Public attribute\n",
    "        self.__balance = balance     # Private attribute\n",
    "\n",
    "    def deposit(self, amount):\n",
    "        if amount > 0:\n",
    "            self.__balance += amount\n",
    "            print(f\"Deposited: {amount}\")\n",
    "        else:\n",
    "            print(\"Deposit amount must be positive.\")\n",
    "\n",
    "    def withdraw(self, amount):\n",
    "        if 0 < amount <= self.__balance:\n",
    "            self.__balance -= amount\n",
    "            print(f\"Withdrew: {amount}\")\n",
    "        else:\n",
    "            print(\"Invalid withdrawal amount.\")\n",
    "\n",
    "    def get_balance(self):           # Public method to access private balance\n",
    "        return self.__balance\n",
    "\n",
    "\n",
    "\n",
    "\n",
    "# Using the BankAccount class\n",
    "account = BankAccount(\"Alice\", 100)\n",
    "account.deposit(50)\n",
    "print(\"Current Balance:\", account.get_balance())  # Outputs: 150\n",
    "\n",
    "account.withdraw(30)\n",
    "print(\"Current Balance:\", account.get_balance())  # Outputs: 120\n",
    "\n",
    "# Trying to access private attribute\n",
    "try:\n",
    "    print(account.__balance)  # Raises AttributeError\n",
    "except AttributeError as e:\n",
    "    print(\"Error:\", e)\n"
   ]
  },
  {
   "cell_type": "code",
   "execution_count": 16,
   "id": "d1aa58fb-aa34-46c7-82af-17960a2a1f14",
   "metadata": {},
   "outputs": [
    {
     "name": "stdout",
     "output_type": "stream",
     "text": [
      "Buddy makes a sound.\n",
      "Buddy barks!\n",
      "Buddy\n",
      "Max\n"
     ]
    }
   ],
   "source": [
    "class Animal:\n",
    "    def __init__(self, name):\n",
    "        self._name = name  # Protected attribute\n",
    "\n",
    "    def speak(self):\n",
    "        return f\"{self._name} makes a sound.\"\n",
    "\n",
    "\n",
    "class Dog(Animal):\n",
    "    def bark(self):\n",
    "        return f\"{self._name} barks!\"  # Accessing protected attribute\n",
    "\n",
    "# Create an instance of Dog\n",
    "dog = Dog(\"Buddy\")\n",
    "\n",
    "# Accessing protected attribute from within the class\n",
    "print(dog.speak())  # Outputs: Buddy makes a sound.\n",
    "print(dog.bark())   # Outputs: Buddy barks!\n",
    "\n",
    "# Accessing the protected attribute from outside the class\n",
    "print(dog._name)    # Outputs: Buddy\n",
    "\n",
    "# Modifying the protected attribute\n",
    "dog._name = \"Max\"\n",
    "print(dog._name)    # Outputs: Max\n"
   ]
  },
  {
   "cell_type": "markdown",
   "id": "9eeb486f-634f-4495-8938-8ad38b71e6ab",
   "metadata": {},
   "source": [
    "<b>Protected Attributes</b>: These are intended for internal use within the class and its subclasses. While they can be accessed from outside, it's a convention to treat them as private. The underscore signals to developers that these attributes should not be accessed directly outside their intended context."
   ]
  },
  {
   "cell_type": "markdown",
   "id": "7b96ef5d-64db-4b4b-87dc-bd4a2de3061d",
   "metadata": {},
   "source": [
    "### polymorphism"
   ]
  },
  {
   "cell_type": "markdown",
   "id": "58bb44f7-a77e-49ba-a08e-4cfec3a39d1a",
   "metadata": {},
   "source": [
    "Polymorphism is a core concept in object-oriented programming (OOP) that allows objects of different classes to be treated as objects of a common superclass. It enables methods to be used in different ways based on the object invoking them, even if those objects are of different types."
   ]
  },
  {
   "cell_type": "code",
   "execution_count": 23,
   "id": "268bd09b-9c14-4625-b7d3-bb1c86d49940",
   "metadata": {},
   "outputs": [
    {
     "name": "stdout",
     "output_type": "stream",
     "text": [
      "Woof!\n",
      "Meow!\n",
      "Moo!\n"
     ]
    }
   ],
   "source": [
    "class Animal:\n",
    "    def speak(self):\n",
    "        raise NotImplementedError(\"Subclass must implement abstract method\")\n",
    "\n",
    "\n",
    "\n",
    "\n",
    "\n",
    "class Dog(Animal):\n",
    "    def speak(self):\n",
    "        return \"Woof!\"\n",
    "\n",
    "class Cat(Animal):\n",
    "    def speak(self):\n",
    "        return \"Meow!\"\n",
    "\n",
    "class Cow(Animal):\n",
    "    def speak(self):\n",
    "        return \"Moo!\"\n",
    "\n",
    "\n",
    "\n",
    "# Function that uses polymorphism\n",
    "\n",
    "def animal_sound(animal):\n",
    "    print(animal.speak())\n",
    "\n",
    "\n",
    "\n",
    "# Create instances of different animals\n",
    "dog = Dog()\n",
    "\n",
    "cat = Cat()\n",
    "cow = Cow()\n",
    "\n",
    "# Call the function with different types\n",
    "animal_sound(dog)  # Outputs: Woof!\n",
    "animal_sound(cat)  # Outputs: Meow!\n",
    "animal_sound(cow)  # Outputs: Moo!\n"
   ]
  },
  {
   "cell_type": "markdown",
   "id": "020b73fd-8f84-4440-9595-7f4db9a56699",
   "metadata": {},
   "source": [
    "<b>Base Class</b>: Animal is a base class with a method speak(). This method is intended to be overridden in derived classes.<br>\n",
    "<b>Derived Classes</b>: Dog, Cat, and Cow inherit from Animal and provide their own implementation of the speak() method.<br>\n",
    "<b>Polymorphic Behavior</b>: The animal_sound() function takes an Animal object as an argument and calls the speak() method. Regardless of the specific type of Animal passed (Dog, Cat, or Cow), the correct speak() method for that type is called."
   ]
  },
  {
   "cell_type": "markdown",
   "id": "e9344b88-8eb4-41db-a159-fd4821811840",
   "metadata": {},
   "source": [
    "- When we say that the function behaves \"regardless of the specific type of Animal passed,\" we mean that the same function (animal_sound()) can accept different types of objects (like Dog, Cat, or Cow) and call the appropriate method for each of them. Here's how it works:\n",
    "\n",
    "- Single Function: You have a single function, animal_sound(animal), that takes an argument animal.\n",
    "\n",
    "- Dynamic Method Resolution: Inside this function, when you call animal.speak(), Python looks up the method to call based on the actual type of the object passed in:\n",
    "  - If you pass a Dog object, it calls the speak() method defined in the Dog class.\n",
    "  - If you pass a Cat object, it calls the speak() method defined in the Cat class.\n",
    "  - If you pass a Cow object, it calls the speak() method defined in the Cow class."
   ]
  },
  {
   "cell_type": "markdown",
   "id": "040f86b0-c6e2-4ecd-aff6-de163f688092",
   "metadata": {},
   "source": [
    "#### use super to call parent methods"
   ]
  },
  {
   "cell_type": "code",
   "execution_count": null,
   "id": "2c3ed5ce-cf0c-4d83-b8ce-52386fe43e83",
   "metadata": {},
   "outputs": [],
   "source": [
    "class Animal:\n",
    "    def __init__(self, name):\n",
    "        self.name = name\n",
    "    \n",
    "    def speak(self):\n",
    "        return f\"{self.name} makes a sound.\"\n",
    "\n",
    "class Dog(Animal):\n",
    "    def __init__(self, name, breed):\n",
    "        super().__init__(name)  # Call the parent class's __init__ method\n",
    "        self.breed = breed\n",
    "\n",
    "    def speak(self):\n",
    "        parent_speak = super().speak()  # Call the parent class's speak method\n",
    "        return f\"{parent_speak} Woof!\"\n",
    "\n",
    "# Create an instance of Dog\n",
    "\n",
    "dog = Dog(\"Buddy\", \"Golden Retriever\")\n",
    "\n",
    "# Using the methods\n",
    "print(dog.speak())  # Outputs: Buddy makes a sound. Woof!\n"
   ]
  },
  {
   "cell_type": "markdown",
   "id": "4d939e1e-7d9d-4845-a415-57f95f22bcb3",
   "metadata": {},
   "source": [
    "#### method overloading"
   ]
  },
  {
   "cell_type": "markdown",
   "id": "e5e5ef51-9bc2-4676-8b2c-8c8f582280fb",
   "metadata": {},
   "source": [
    "Method Overloading is a feature that allows a class to have multiple methods with the same name but different parameters. However, Python does not support method overloading in the traditional sense (like some other languages do). Instead, you can achieve similar behavior by using default arguments or variable-length arguments"
   ]
  },
  {
   "cell_type": "code",
   "execution_count": 28,
   "id": "f74d0005-1e73-4989-93f8-c29a4da39336",
   "metadata": {},
   "outputs": [
    {
     "name": "stdout",
     "output_type": "stream",
     "text": [
      "5\n",
      "9\n"
     ]
    }
   ],
   "source": [
    "class MathOperations:\n",
    "    def add(self, a, b, c=0):  # Default argument for overloading\n",
    "        return a + b + c\n",
    "\n",
    "\n",
    "\n",
    "\n",
    "# Create an instance of MathOperations\n",
    "\n",
    "math_ops = MathOperations()\n",
    "\n",
    "\n",
    "# Different ways to call the same method\n",
    "\n",
    "\n",
    "print(math_ops.add(2, 3))          # Outputs: 5 (2 + 3)\n",
    "\n",
    "print(math_ops.add(2, 3, 4))       # Outputs: 9 (2 + 3 + 4)\n"
   ]
  },
  {
   "cell_type": "markdown",
   "id": "244ab62f-46c1-4ab7-8586-a108e48243f1",
   "metadata": {},
   "source": [
    "#### method overriding"
   ]
  },
  {
   "cell_type": "markdown",
   "id": "f61adc54-4c9a-4ce6-90a6-045f5ac893ef",
   "metadata": {},
   "source": [
    "Method Overriding occurs when a subclass provides a specific implementation of a method that is already defined in its superclass. This allows the subclass to modify or extend the behavior of the parent class's method."
   ]
  },
  {
   "cell_type": "markdown",
   "id": "a3390951-99b7-44c4-a430-a1eb382848b2",
   "metadata": {},
   "source": [
    "Method Overriding occurs when a subclass provides a specific implementation of a method that is already defined in its superclass. This allows the subclass to modify or extend the behavior of the parent class's method."
   ]
  },
  {
   "cell_type": "markdown",
   "id": "eec1fa47-2d1d-4335-a475-aaebf5c4ae27",
   "metadata": {},
   "source": [
    "### ERRORS"
   ]
  },
  {
   "cell_type": "markdown",
   "id": "f1590f27-4b4d-45b5-bc8e-edd16cd78c14",
   "metadata": {},
   "source": [
    "In Python, errors can be broadly classified into different categories, and two important ones are <i>syntax errors and logical errors</i>. Here’s a breakdown of each:\n",
    "\n",
    "Syntax Errors\n",
    "Definition: Syntax errors occur when the code does not conform to the rules of the Python language. This means Python cannot interpret the code at all."
   ]
  },
  {
   "cell_type": "markdown",
   "id": "2e0f7412-e38b-4c8b-92e4-811765a2973f",
   "metadata": {},
   "source": [
    "Syntax Errors\n",
    "Definition: Syntax errors occur when the code does not conform to the rules of the Python language. This means Python cannot interpret the code at all."
   ]
  },
  {
   "cell_type": "markdown",
   "id": "c43d7e20-4e5d-452f-ad35-070496dec66f",
   "metadata": {},
   "source": [
    "Logical Errors\n",
    "Definition: Logical errors occur when the code runs without crashing but produces incorrect results. The syntax is correct, but the logic behind the implementation is flawed."
   ]
  },
  {
   "cell_type": "code",
   "execution_count": 8,
   "id": "40b2ce38-7e7e-4af4-b155-9791c3e8f740",
   "metadata": {},
   "outputs": [
    {
     "name": "stdout",
     "output_type": "stream",
     "text": [
      "Average: 60\n"
     ]
    }
   ],
   "source": [
    "# Logical error: should calculate the average but sums incorrectly\n",
    "numbers = [10, 20, 30]\n",
    "average = sum(numbers) / len(numbers)  # Correct\n",
    "average = sum(numbers)  # Incorrect: only sums up\n",
    "print(\"Average:\", average)\n"
   ]
  },
  {
   "cell_type": "markdown",
   "id": "c6eff7b0-c661-4959-ada2-0bc8d8c23149",
   "metadata": {},
   "source": [
    "#### Exceptions\n",
    "Definition: Exceptions are runtime errors that occur when the program encounters an unexpected situation that disrupts its normal flow. Python raises an exception when it detects an error during execution.\n"
   ]
  },
  {
   "cell_type": "markdown",
   "id": "8c9ee64e-88fe-4357-b964-00848859df4a",
   "metadata": {},
   "source": [
    "#### Common Exceptions"
   ]
  },
  {
   "cell_type": "markdown",
   "id": "3c935fc1-376f-4657-98b3-24acf4fdbe32",
   "metadata": {},
   "source": [
    "1. ValueError\n",
    "\n",
    "Description: Raised when a function receives an argument of the correct type but inappropriate value."
   ]
  },
  {
   "cell_type": "code",
   "execution_count": 5,
   "id": "3ebb4263-eb2a-41c3-89e1-79cb6296e847",
   "metadata": {},
   "outputs": [
    {
     "name": "stdin",
     "output_type": "stream",
     "text": [
      "Enter a number:  asd\n"
     ]
    },
    {
     "name": "stdout",
     "output_type": "stream",
     "text": [
      "ValueError: invalid literal for int() with base 10: 'asd'. Please enter a valid number.\n"
     ]
    }
   ],
   "source": [
    "try:\n",
    "    user_input = input(\"Enter a number: \")  # User enters a value\n",
    "    number = int(user_input)  # Attempt to convert to an integer\n",
    "    print(f\"You entered the number: {number}\")\n",
    "except ValueError as e:\n",
    "    print(f\"ValueError: {e}. Please enter a valid number.\")\n"
   ]
  },
  {
   "cell_type": "markdown",
   "id": "54072779-e0a8-4ec8-add0-8386478b02b6",
   "metadata": {},
   "source": [
    "2. TypeError\n",
    "   - Description: Raised when an operation is applied to an object of inappropriate type.\n",
    "   "
   ]
  },
  {
   "cell_type": "code",
   "execution_count": 18,
   "id": "7ef0e3ba-b334-4fff-b5e1-2227f7e449e1",
   "metadata": {},
   "outputs": [
    {
     "name": "stdout",
     "output_type": "stream",
     "text": [
      "TypeError: can only concatenate str (not \"int\") to str\n"
     ]
    }
   ],
   "source": [
    "try:\n",
    "    result = \"string\" + 5\n",
    "except TypeError as e:\n",
    "    print(f\"TypeError: {e}\")\n"
   ]
  },
  {
   "cell_type": "markdown",
   "id": "a0fb8882-9cfc-48d3-9f7a-72338f7efa0c",
   "metadata": {},
   "source": [
    "3. IndexError\n",
    "   - Description: Raised when trying to access an index that is out of range for a list or string."
   ]
  },
  {
   "cell_type": "code",
   "execution_count": 21,
   "id": "deb6797a-f7fc-40d9-a67f-883b750eb78b",
   "metadata": {},
   "outputs": [
    {
     "name": "stdout",
     "output_type": "stream",
     "text": [
      "IndexError: list index out of range\n"
     ]
    }
   ],
   "source": [
    "my_list = [1, 2, 3]\n",
    "try:\n",
    "    print(my_list[5])\n",
    "except IndexError as e:\n",
    "    print(f\"IndexError: {e}\")\n"
   ]
  },
  {
   "cell_type": "markdown",
   "id": "9ed03b79-7996-4d19-be36-e12abcc2243e",
   "metadata": {},
   "source": [
    "4. KeyError\n",
    "- Description: Raised when trying to access a dictionary with a key that doesn’t exist.\n"
   ]
  },
  {
   "cell_type": "code",
   "execution_count": 24,
   "id": "b690e6dd-d3d8-444a-ae47-10f50d4a0a30",
   "metadata": {},
   "outputs": [
    {
     "name": "stdout",
     "output_type": "stream",
     "text": [
      "KeyError: 'b'\n"
     ]
    }
   ],
   "source": [
    "my_dict = {'a': 1}\n",
    "try:\n",
    "    print(my_dict['b'])\n",
    "except KeyError as e:\n",
    "    print(f\"KeyError: {e}\")\n"
   ]
  },
  {
   "cell_type": "markdown",
   "id": "7a409ed8-eaa2-4c32-bd30-22d3311b632e",
   "metadata": {},
   "source": [
    "5. AttributeError\n",
    "- Description: Raised when an invalid attribute reference is made."
   ]
  },
  {
   "cell_type": "code",
   "execution_count": 28,
   "id": "75ab1873-ae70-4d70-9496-4710a8f943ae",
   "metadata": {},
   "outputs": [
    {
     "name": "stdout",
     "output_type": "stream",
     "text": [
      "AttributeError: 'str' object has no attribute 'push'\n"
     ]
    }
   ],
   "source": [
    "try:\n",
    "    my_string = \"hello\"\n",
    "    my_string.push(\"!\")\n",
    "except AttributeError as e:\n",
    "    print(f\"AttributeError: {e}\")\n"
   ]
  },
  {
   "cell_type": "markdown",
   "id": "82a429ac-c0f0-466e-b2dd-ef7e62886ed1",
   "metadata": {},
   "source": [
    "6. ZeroDivisionError\n",
    "  - Description: Raised when dividing by zero."
   ]
  },
  {
   "cell_type": "code",
   "execution_count": 5,
   "id": "4f1e04ea-d91c-49bf-a913-35e30dd44d55",
   "metadata": {},
   "outputs": [
    {
     "name": "stdout",
     "output_type": "stream",
     "text": [
      "hi\n"
     ]
    },
    {
     "ename": "ZeroDivisionError",
     "evalue": "division by zero",
     "output_type": "error",
     "traceback": [
      "\u001b[1;31m---------------------------------------------------------------------------\u001b[0m",
      "\u001b[1;31mZeroDivisionError\u001b[0m                         Traceback (most recent call last)",
      "Cell \u001b[1;32mIn[5], line 2\u001b[0m\n\u001b[0;32m      1\u001b[0m \u001b[38;5;28;01mtry\u001b[39;00m:\n\u001b[1;32m----> 2\u001b[0m     result \u001b[38;5;241m=\u001b[39m \u001b[38;5;241m10\u001b[39m \u001b[38;5;241m/\u001b[39m \u001b[38;5;241m0\u001b[39m\n\u001b[0;32m      3\u001b[0m \u001b[38;5;28;01mexcept\u001b[39;00m \u001b[38;5;167;01mAttributeError\u001b[39;00m \u001b[38;5;28;01mas\u001b[39;00m e:\n\u001b[0;32m      4\u001b[0m     \u001b[38;5;28mprint\u001b[39m(\u001b[38;5;124mf\u001b[39m\u001b[38;5;124m\"\u001b[39m\u001b[38;5;124mZeroDivisionError: \u001b[39m\u001b[38;5;132;01m{\u001b[39;00me\u001b[38;5;132;01m}\u001b[39;00m\u001b[38;5;124m\"\u001b[39m)\n",
      "\u001b[1;31mZeroDivisionError\u001b[0m: division by zero"
     ]
    }
   ],
   "source": [
    "try:\n",
    "    result = 10 / 0\n",
    "except AttributeError as e:\n",
    "    print(f\"ZeroDivisionError: {e}\")\n",
    "else:\n",
    "    print(\"zero\")\n",
    "finally:\n",
    "    print(\"hi\")\n"
   ]
  },
  {
   "cell_type": "markdown",
   "id": "3062785c-7911-4a8c-8ea2-3fa823664e90",
   "metadata": {},
   "source": [
    "7. FileNotFoundError\n",
    "   - Raised when trying to open a file that does not exist."
   ]
  },
  {
   "cell_type": "code",
   "execution_count": 34,
   "id": "7aae9bef-0af9-48c6-be86-912acedba3cd",
   "metadata": {},
   "outputs": [
    {
     "name": "stdout",
     "output_type": "stream",
     "text": [
      "FileNotFoundError: [Errno 2] No such file or directory: 'non_existent_file.txt'\n"
     ]
    }
   ],
   "source": [
    "try:\n",
    "    with open(\"non_existent_file.txt\") as f:\n",
    "        content = f.read()\n",
    "except FileNotFoundError as e:\n",
    "    print(f\"FileNotFoundError: {e}\")\n"
   ]
  },
  {
   "cell_type": "markdown",
   "id": "8603e48b-ddfd-45a7-bbec-e1e2b4ace56c",
   "metadata": {},
   "source": [
    "8. ImportError\n",
    " - Raised when an import statement fails to find the module definition. "
   ]
  },
  {
   "cell_type": "code",
   "execution_count": 37,
   "id": "4beb8689-6be0-40a7-8cbc-5e660c15eb01",
   "metadata": {},
   "outputs": [
    {
     "name": "stdout",
     "output_type": "stream",
     "text": [
      "ImportError: No module named 'non_existent_module'\n"
     ]
    }
   ],
   "source": [
    "try:\n",
    "    import non_existent_module\n",
    "except ImportError as e:\n",
    "    print(f\"ImportError: {e}\")\n"
   ]
  },
  {
   "cell_type": "markdown",
   "id": "59b5c47b-409d-437f-b920-332ab5d8c3c8",
   "metadata": {},
   "source": [
    "9. RuntimeError\n",
    "-  Raised when an error is detected that doesn’t fall into any other category."
   ]
  },
  {
   "cell_type": "code",
   "execution_count": 40,
   "id": "088d4634-1be5-4e81-91db-163d7e20ec1c",
   "metadata": {},
   "outputs": [
    {
     "name": "stdout",
     "output_type": "stream",
     "text": [
      "RuntimeError: This is a runtime error\n"
     ]
    }
   ],
   "source": [
    "try:\n",
    "    raise RuntimeError(\"This is a runtime error\")\n",
    "except RuntimeError as e:\n",
    "    print(f\"RuntimeError: {e}\")\n"
   ]
  },
  {
   "cell_type": "markdown",
   "id": "56078960-7249-4c7d-8b2c-c3dda2a13ff0",
   "metadata": {},
   "source": [
    "10. OverflowError\n",
    " -  Raised when the result of an arithmetic operation is too large to be expressed within the range of the integer type."
   ]
  },
  {
   "cell_type": "code",
   "execution_count": 43,
   "id": "86987927-e188-4e0a-9c69-428c99e2356f",
   "metadata": {},
   "outputs": [],
   "source": [
    "try:\n",
    "    x = 10 ** 1000  # A very large number\n",
    "except OverflowError as e:\n",
    "    print(f\"OverflowError: {e}\")\n"
   ]
  },
  {
   "cell_type": "markdown",
   "id": "67e802db-ab8e-4faa-8a7a-df03fb6fcb06",
   "metadata": {},
   "source": [
    "#### Catching Multiple Exceptions"
   ]
  },
  {
   "cell_type": "code",
   "execution_count": 25,
   "id": "b9c975c1-7b38-4a6e-b71c-fe62bf7db849",
   "metadata": {},
   "outputs": [
    {
     "name": "stdout",
     "output_type": "stream",
     "text": [
      "Error: invalid literal for int() with base 10: 'invalid'\n"
     ]
    }
   ],
   "source": [
    "try:\n",
    "    # Some code that may raise exceptions\n",
    "    num = int(\"invalid\")\n",
    "except (ValueError, TypeError) as e:\n",
    "    print(f\"Error: {e}\")\n"
   ]
  },
  {
   "cell_type": "code",
   "execution_count": null,
   "id": "93a82daf-251c-4674-a8ab-c64bd4e7a24e",
   "metadata": {},
   "outputs": [],
   "source": []
  },
  {
   "cell_type": "code",
   "execution_count": null,
   "id": "8edabd06-5544-4720-8006-1286ece26bba",
   "metadata": {},
   "outputs": [],
   "source": []
  },
  {
   "cell_type": "code",
   "execution_count": null,
   "id": "57af8f26-1813-4cfc-90db-c9f7b883e6cf",
   "metadata": {},
   "outputs": [],
   "source": [
    "try:\r\n",
    "    x = int(input(\"Enter a number: \"))\r\n",
    "    result = 10 / x\r\n",
    "except ZeroDivisionError:\r\n",
    "    print(\"You cannot divide by zero!\")\r\n",
    "except ValueError:\r\n",
    "    print(\"Invalid input! Please enter a valid number.\")\r\n"
   ]
  },
  {
   "cell_type": "markdown",
   "id": "b30710f4-7101-4194-915d-f2aeff35376b",
   "metadata": {},
   "source": [
    "#### Catching All Exceptions\n",
    "- You can catch all exceptions using a generic except block, but it's generally not recommended because it can hide bugs."
   ]
  },
  {
   "cell_type": "code",
   "execution_count": 12,
   "id": "ee367c85-f229-4c48-9e1e-13cf5444ba70",
   "metadata": {},
   "outputs": [
    {
     "name": "stdout",
     "output_type": "stream",
     "text": [
      "An error occurred: division by zero\n"
     ]
    }
   ],
   "source": [
    "try:\n",
    "    result = 10 / 0\n",
    "except Exception as e:\n",
    "    print(f\"An error occurred: {e}\")\n"
   ]
  },
  {
   "cell_type": "markdown",
   "id": "9eb30c7e-211a-4d7e-b931-f0ae7e8c7fa6",
   "metadata": {},
   "source": [
    "#### finally\n",
    "- The finally block is executed regardless of whether an exception occurs or not, making it useful for cleanup actions."
   ]
  },
  {
   "cell_type": "code",
   "execution_count": null,
   "id": "dbde4740-b86a-4192-b3bd-4053160d17b3",
   "metadata": {},
   "outputs": [],
   "source": [
    "try:\n",
    "    file = open(\"example.txt\", \"r\")\n",
    "    # Process the file\n",
    "except FileNotFoundError:\n",
    "    print(\"File not found!\")\n",
    "finally:\n",
    "    print(\"This block executes no matter what.\")\n"
   ]
  },
  {
   "cell_type": "markdown",
   "id": "b91bcdec-9f6b-45dd-9cc8-0309f7478624",
   "metadata": {},
   "source": [
    "#### Raising Exceptions\n",
    "- You can raise exceptions manually using the raise keyword."
   ]
  },
  {
   "cell_type": "code",
   "execution_count": 17,
   "id": "83c0610b-a240-493c-aa28-7ad51223b5d4",
   "metadata": {},
   "outputs": [
    {
     "name": "stdout",
     "output_type": "stream",
     "text": [
      "The number must be positive!\n"
     ]
    }
   ],
   "source": [
    "def check_positive(number):\n",
    "    if number < 0:\n",
    "        raise ValueError(\"The number must be positive!\")\n",
    "\n",
    "try:\n",
    "    check_positive(-5)\n",
    "except ValueError as e:\n",
    "    print(e)  # Output: The number must be positive!\n"
   ]
  },
  {
   "cell_type": "markdown",
   "id": "48057c15-5e7a-4213-8b1d-5b703b8b85d8",
   "metadata": {},
   "source": [
    "#### Custom Exceptions\n",
    "- You can create your own exception classes by extending the built-in Exception class."
   ]
  },
  {
   "cell_type": "code",
   "execution_count": 19,
   "id": "9475a437-ee42-4134-9843-3fc87c398c42",
   "metadata": {},
   "outputs": [
    {
     "name": "stdout",
     "output_type": "stream",
     "text": [
      "This is a custom error!\n"
     ]
    }
   ],
   "source": [
    "class CustomError(Exception):\n",
    "    pass\n",
    "\n",
    "try:\n",
    "    raise CustomError(\"This is a custom error!\")\n",
    "except CustomError as e:\n",
    "    print(e)  # Output: This is a custom error!\n"
   ]
  },
  {
   "cell_type": "code",
   "execution_count": null,
   "id": "9b1c3812-7879-4a91-a49c-3f0b2b25e62c",
   "metadata": {},
   "outputs": [],
   "source": []
  },
  {
   "cell_type": "code",
   "execution_count": 27,
   "id": "1cfb38ac-ef18-455a-bf06-236aba221dd6",
   "metadata": {},
   "outputs": [
    {
     "ename": "SystemExit",
     "evalue": "1",
     "output_type": "error",
     "traceback": [
      "An exception has occurred, use %tb to see the full traceback.\n",
      "\u001b[1;31mSystemExit\u001b[0m\u001b[1;31m:\u001b[0m 1\n"
     ]
    }
   ],
   "source": [
    "import sys\n",
    "\n",
    "class CustomError(Exception):\n",
    "    def __init__(self, message, error_code):\n",
    "        super().__init__(message)\n",
    "        self.error_code = error_code\n",
    "\n",
    "    def __str__(self):\n",
    "        return f\"{self.args[0]} (Error code: {self.error_code})\"\n",
    "\n",
    "def check_positive(number):\n",
    "    if number < 0:\n",
    "        raise CustomError(\"The number must be positive!\", sys.exit(1))\n",
    "\n",
    "try:\n",
    "    check_positive(-5)\n",
    "except CustomError as e:\n",
    "    print(e)  # Output: The number must be positive! (Error code: None)\n"
   ]
  },
  {
   "cell_type": "code",
   "execution_count": null,
   "id": "091a1d0f-7768-4b8f-84a6-d4074f5bf0a7",
   "metadata": {},
   "outputs": [],
   "source": []
  },
  {
   "cell_type": "code",
   "execution_count": 31,
   "id": "29c665fe-abd8-4cfc-98fa-61a3bd8ecf7d",
   "metadata": {},
   "outputs": [
    {
     "name": "stdout",
     "output_type": "stream",
     "text": [
      "The number must be positive! (Error code: 1)\n"
     ]
    },
    {
     "ename": "AttributeError",
     "evalue": "'tuple' object has no attribute 'tb_frame'",
     "output_type": "error",
     "traceback": [
      "\u001b[1;31m---------------------------------------------------------------------------\u001b[0m",
      "\u001b[1;31mCustomError\u001b[0m                               Traceback (most recent call last)",
      "Cell \u001b[1;32mIn[31], line 16\u001b[0m\n\u001b[0;32m     15\u001b[0m \u001b[38;5;28;01mtry\u001b[39;00m:\n\u001b[1;32m---> 16\u001b[0m     check_positive(\u001b[38;5;241m-\u001b[39m\u001b[38;5;241m5\u001b[39m)\n\u001b[0;32m     17\u001b[0m \u001b[38;5;28;01mexcept\u001b[39;00m CustomError \u001b[38;5;28;01mas\u001b[39;00m e:\n",
      "Cell \u001b[1;32mIn[31], line 13\u001b[0m, in \u001b[0;36mcheck_positive\u001b[1;34m(number)\u001b[0m\n\u001b[0;32m     12\u001b[0m \u001b[38;5;28;01mif\u001b[39;00m number \u001b[38;5;241m<\u001b[39m \u001b[38;5;241m0\u001b[39m:\n\u001b[1;32m---> 13\u001b[0m     \u001b[38;5;28;01mraise\u001b[39;00m CustomError(\u001b[38;5;124m\"\u001b[39m\u001b[38;5;124mThe number must be positive!\u001b[39m\u001b[38;5;124m\"\u001b[39m, \u001b[38;5;241m1\u001b[39m)\n",
      "\u001b[1;31mCustomError\u001b[0m: The number must be positive! (Error code: 1)",
      "\nDuring handling of the above exception, another exception occurred:\n",
      "\u001b[1;31mSystemExit\u001b[0m                                Traceback (most recent call last)",
      "    \u001b[1;31m[... skipping hidden 1 frame]\u001b[0m\n",
      "Cell \u001b[1;32mIn[31], line 19\u001b[0m\n\u001b[0;32m     18\u001b[0m \u001b[38;5;28mprint\u001b[39m(e)  \u001b[38;5;66;03m# Output: The number must be positive! (Error code: 1)\u001b[39;00m\n\u001b[1;32m---> 19\u001b[0m sys\u001b[38;5;241m.\u001b[39mexit(e\u001b[38;5;241m.\u001b[39merror_code)\n",
      "\u001b[1;31mSystemExit\u001b[0m: 1",
      "\nDuring handling of the above exception, another exception occurred:\n",
      "\u001b[1;31mAttributeError\u001b[0m                            Traceback (most recent call last)",
      "    \u001b[1;31m[... skipping hidden 1 frame]\u001b[0m\n",
      "File \u001b[1;32m~\\anaconda3\\Lib\\site-packages\\IPython\\core\\interactiveshell.py:2145\u001b[0m, in \u001b[0;36mInteractiveShell.showtraceback\u001b[1;34m(self, exc_tuple, filename, tb_offset, exception_only, running_compiled_code)\u001b[0m\n\u001b[0;32m   2142\u001b[0m \u001b[38;5;28;01mif\u001b[39;00m exception_only:\n\u001b[0;32m   2143\u001b[0m     stb \u001b[38;5;241m=\u001b[39m [\u001b[38;5;124m'\u001b[39m\u001b[38;5;124mAn exception has occurred, use \u001b[39m\u001b[38;5;124m%\u001b[39m\u001b[38;5;124mtb to see \u001b[39m\u001b[38;5;124m'\u001b[39m\n\u001b[0;32m   2144\u001b[0m            \u001b[38;5;124m'\u001b[39m\u001b[38;5;124mthe full traceback.\u001b[39m\u001b[38;5;130;01m\\n\u001b[39;00m\u001b[38;5;124m'\u001b[39m]\n\u001b[1;32m-> 2145\u001b[0m     stb\u001b[38;5;241m.\u001b[39mextend(\u001b[38;5;28mself\u001b[39m\u001b[38;5;241m.\u001b[39mInteractiveTB\u001b[38;5;241m.\u001b[39mget_exception_only(etype,\n\u001b[0;32m   2146\u001b[0m                                                      value))\n\u001b[0;32m   2147\u001b[0m \u001b[38;5;28;01melse\u001b[39;00m:\n\u001b[0;32m   2149\u001b[0m     \u001b[38;5;28;01mdef\u001b[39;00m \u001b[38;5;21mcontains_exceptiongroup\u001b[39m(val):\n",
      "File \u001b[1;32m~\\anaconda3\\Lib\\site-packages\\IPython\\core\\ultratb.py:710\u001b[0m, in \u001b[0;36mListTB.get_exception_only\u001b[1;34m(self, etype, value)\u001b[0m\n\u001b[0;32m    702\u001b[0m \u001b[38;5;28;01mdef\u001b[39;00m \u001b[38;5;21mget_exception_only\u001b[39m(\u001b[38;5;28mself\u001b[39m, etype, value):\n\u001b[0;32m    703\u001b[0m \u001b[38;5;250m    \u001b[39m\u001b[38;5;124;03m\"\"\"Only print the exception type and message, without a traceback.\u001b[39;00m\n\u001b[0;32m    704\u001b[0m \n\u001b[0;32m    705\u001b[0m \u001b[38;5;124;03m    Parameters\u001b[39;00m\n\u001b[1;32m   (...)\u001b[0m\n\u001b[0;32m    708\u001b[0m \u001b[38;5;124;03m    value : exception value\u001b[39;00m\n\u001b[0;32m    709\u001b[0m \u001b[38;5;124;03m    \"\"\"\u001b[39;00m\n\u001b[1;32m--> 710\u001b[0m     \u001b[38;5;28;01mreturn\u001b[39;00m ListTB\u001b[38;5;241m.\u001b[39mstructured_traceback(\u001b[38;5;28mself\u001b[39m, etype, value)\n",
      "File \u001b[1;32m~\\anaconda3\\Lib\\site-packages\\IPython\\core\\ultratb.py:568\u001b[0m, in \u001b[0;36mListTB.structured_traceback\u001b[1;34m(self, etype, evalue, etb, tb_offset, context)\u001b[0m\n\u001b[0;32m    565\u001b[0m     chained_exc_ids\u001b[38;5;241m.\u001b[39madd(\u001b[38;5;28mid\u001b[39m(exception[\u001b[38;5;241m1\u001b[39m]))\n\u001b[0;32m    566\u001b[0m     chained_exceptions_tb_offset \u001b[38;5;241m=\u001b[39m \u001b[38;5;241m0\u001b[39m\n\u001b[0;32m    567\u001b[0m     out_list \u001b[38;5;241m=\u001b[39m (\n\u001b[1;32m--> 568\u001b[0m         \u001b[38;5;28mself\u001b[39m\u001b[38;5;241m.\u001b[39mstructured_traceback(\n\u001b[0;32m    569\u001b[0m             etype,\n\u001b[0;32m    570\u001b[0m             evalue,\n\u001b[0;32m    571\u001b[0m             (etb, chained_exc_ids),  \u001b[38;5;66;03m# type: ignore\u001b[39;00m\n\u001b[0;32m    572\u001b[0m             chained_exceptions_tb_offset,\n\u001b[0;32m    573\u001b[0m             context,\n\u001b[0;32m    574\u001b[0m         )\n\u001b[0;32m    575\u001b[0m         \u001b[38;5;241m+\u001b[39m chained_exception_message\n\u001b[0;32m    576\u001b[0m         \u001b[38;5;241m+\u001b[39m out_list)\n\u001b[0;32m    578\u001b[0m \u001b[38;5;28;01mreturn\u001b[39;00m out_list\n",
      "File \u001b[1;32m~\\anaconda3\\Lib\\site-packages\\IPython\\core\\ultratb.py:1454\u001b[0m, in \u001b[0;36mAutoFormattedTB.structured_traceback\u001b[1;34m(self, etype, evalue, etb, tb_offset, number_of_lines_of_context)\u001b[0m\n\u001b[0;32m   1452\u001b[0m \u001b[38;5;28;01melse\u001b[39;00m:\n\u001b[0;32m   1453\u001b[0m     \u001b[38;5;28mself\u001b[39m\u001b[38;5;241m.\u001b[39mtb \u001b[38;5;241m=\u001b[39m etb\n\u001b[1;32m-> 1454\u001b[0m \u001b[38;5;28;01mreturn\u001b[39;00m FormattedTB\u001b[38;5;241m.\u001b[39mstructured_traceback(\n\u001b[0;32m   1455\u001b[0m     \u001b[38;5;28mself\u001b[39m, etype, evalue, etb, tb_offset, number_of_lines_of_context\n\u001b[0;32m   1456\u001b[0m )\n",
      "File \u001b[1;32m~\\anaconda3\\Lib\\site-packages\\IPython\\core\\ultratb.py:1345\u001b[0m, in \u001b[0;36mFormattedTB.structured_traceback\u001b[1;34m(self, etype, value, tb, tb_offset, number_of_lines_of_context)\u001b[0m\n\u001b[0;32m   1342\u001b[0m mode \u001b[38;5;241m=\u001b[39m \u001b[38;5;28mself\u001b[39m\u001b[38;5;241m.\u001b[39mmode\n\u001b[0;32m   1343\u001b[0m \u001b[38;5;28;01mif\u001b[39;00m mode \u001b[38;5;129;01min\u001b[39;00m \u001b[38;5;28mself\u001b[39m\u001b[38;5;241m.\u001b[39mverbose_modes:\n\u001b[0;32m   1344\u001b[0m     \u001b[38;5;66;03m# Verbose modes need a full traceback\u001b[39;00m\n\u001b[1;32m-> 1345\u001b[0m     \u001b[38;5;28;01mreturn\u001b[39;00m VerboseTB\u001b[38;5;241m.\u001b[39mstructured_traceback(\n\u001b[0;32m   1346\u001b[0m         \u001b[38;5;28mself\u001b[39m, etype, value, tb, tb_offset, number_of_lines_of_context\n\u001b[0;32m   1347\u001b[0m     )\n\u001b[0;32m   1348\u001b[0m \u001b[38;5;28;01melif\u001b[39;00m mode \u001b[38;5;241m==\u001b[39m \u001b[38;5;124m'\u001b[39m\u001b[38;5;124mMinimal\u001b[39m\u001b[38;5;124m'\u001b[39m:\n\u001b[0;32m   1349\u001b[0m     \u001b[38;5;28;01mreturn\u001b[39;00m ListTB\u001b[38;5;241m.\u001b[39mget_exception_only(\u001b[38;5;28mself\u001b[39m, etype, value)\n",
      "File \u001b[1;32m~\\anaconda3\\Lib\\site-packages\\IPython\\core\\ultratb.py:1192\u001b[0m, in \u001b[0;36mVerboseTB.structured_traceback\u001b[1;34m(self, etype, evalue, etb, tb_offset, number_of_lines_of_context)\u001b[0m\n\u001b[0;32m   1183\u001b[0m \u001b[38;5;28;01mdef\u001b[39;00m \u001b[38;5;21mstructured_traceback\u001b[39m(\n\u001b[0;32m   1184\u001b[0m     \u001b[38;5;28mself\u001b[39m,\n\u001b[0;32m   1185\u001b[0m     etype: \u001b[38;5;28mtype\u001b[39m,\n\u001b[1;32m   (...)\u001b[0m\n\u001b[0;32m   1189\u001b[0m     number_of_lines_of_context: \u001b[38;5;28mint\u001b[39m \u001b[38;5;241m=\u001b[39m \u001b[38;5;241m5\u001b[39m,\n\u001b[0;32m   1190\u001b[0m ):\n\u001b[0;32m   1191\u001b[0m \u001b[38;5;250m    \u001b[39m\u001b[38;5;124;03m\"\"\"Return a nice text document describing the traceback.\"\"\"\u001b[39;00m\n\u001b[1;32m-> 1192\u001b[0m     formatted_exception \u001b[38;5;241m=\u001b[39m \u001b[38;5;28mself\u001b[39m\u001b[38;5;241m.\u001b[39mformat_exception_as_a_whole(etype, evalue, etb, number_of_lines_of_context,\n\u001b[0;32m   1193\u001b[0m                                                            tb_offset)\n\u001b[0;32m   1195\u001b[0m     colors \u001b[38;5;241m=\u001b[39m \u001b[38;5;28mself\u001b[39m\u001b[38;5;241m.\u001b[39mColors  \u001b[38;5;66;03m# just a shorthand + quicker name lookup\u001b[39;00m\n\u001b[0;32m   1196\u001b[0m     colorsnormal \u001b[38;5;241m=\u001b[39m colors\u001b[38;5;241m.\u001b[39mNormal  \u001b[38;5;66;03m# used a lot\u001b[39;00m\n",
      "File \u001b[1;32m~\\anaconda3\\Lib\\site-packages\\IPython\\core\\ultratb.py:1082\u001b[0m, in \u001b[0;36mVerboseTB.format_exception_as_a_whole\u001b[1;34m(self, etype, evalue, etb, number_of_lines_of_context, tb_offset)\u001b[0m\n\u001b[0;32m   1079\u001b[0m \u001b[38;5;28;01massert\u001b[39;00m \u001b[38;5;28misinstance\u001b[39m(tb_offset, \u001b[38;5;28mint\u001b[39m)\n\u001b[0;32m   1080\u001b[0m head \u001b[38;5;241m=\u001b[39m \u001b[38;5;28mself\u001b[39m\u001b[38;5;241m.\u001b[39mprepare_header(\u001b[38;5;28mstr\u001b[39m(etype), \u001b[38;5;28mself\u001b[39m\u001b[38;5;241m.\u001b[39mlong_header)\n\u001b[0;32m   1081\u001b[0m records \u001b[38;5;241m=\u001b[39m (\n\u001b[1;32m-> 1082\u001b[0m     \u001b[38;5;28mself\u001b[39m\u001b[38;5;241m.\u001b[39mget_records(etb, number_of_lines_of_context, tb_offset) \u001b[38;5;28;01mif\u001b[39;00m etb \u001b[38;5;28;01melse\u001b[39;00m []\n\u001b[0;32m   1083\u001b[0m )\n\u001b[0;32m   1085\u001b[0m frames \u001b[38;5;241m=\u001b[39m []\n\u001b[0;32m   1086\u001b[0m skipped \u001b[38;5;241m=\u001b[39m \u001b[38;5;241m0\u001b[39m\n",
      "File \u001b[1;32m~\\anaconda3\\Lib\\site-packages\\IPython\\core\\ultratb.py:1150\u001b[0m, in \u001b[0;36mVerboseTB.get_records\u001b[1;34m(self, etb, number_of_lines_of_context, tb_offset)\u001b[0m\n\u001b[0;32m   1148\u001b[0m \u001b[38;5;28;01mwhile\u001b[39;00m cf \u001b[38;5;129;01mis\u001b[39;00m \u001b[38;5;129;01mnot\u001b[39;00m \u001b[38;5;28;01mNone\u001b[39;00m:\n\u001b[0;32m   1149\u001b[0m     \u001b[38;5;28;01mtry\u001b[39;00m:\n\u001b[1;32m-> 1150\u001b[0m         mod \u001b[38;5;241m=\u001b[39m inspect\u001b[38;5;241m.\u001b[39mgetmodule(cf\u001b[38;5;241m.\u001b[39mtb_frame)\n\u001b[0;32m   1151\u001b[0m         \u001b[38;5;28;01mif\u001b[39;00m mod \u001b[38;5;129;01mis\u001b[39;00m \u001b[38;5;129;01mnot\u001b[39;00m \u001b[38;5;28;01mNone\u001b[39;00m:\n\u001b[0;32m   1152\u001b[0m             mod_name \u001b[38;5;241m=\u001b[39m mod\u001b[38;5;241m.\u001b[39m\u001b[38;5;18m__name__\u001b[39m\n",
      "\u001b[1;31mAttributeError\u001b[0m: 'tuple' object has no attribute 'tb_frame'"
     ]
    }
   ],
   "source": [
    "import sys\n",
    "\n",
    "class CustomError(Exception):\n",
    "    def __init__(self, message, error_code):\n",
    "        super().__init__(message)\n",
    "        self.error_code = error_code\n",
    "\n",
    "    def __str__(self):\n",
    "        return f\"{self.args[0]} (Error code: {self.error_code})\"\n",
    "\n",
    "def check_positive(number):\n",
    "    if number < 0:\n",
    "        raise CustomError(\"The number must be positive!\", 1)  # Use a custom error code instead of sys.exit(1)\n",
    "\n",
    "try:\n",
    "    check_positive(-5)\n",
    "except CustomError as e:\n",
    "    print(e)  # Output: The number must be positive! (Error code: 1)\n",
    "    sys.exit(e.error_code)  # Exit the program with the custom error code\n"
   ]
  },
  {
   "cell_type": "code",
   "execution_count": null,
   "id": "b813aef0-d1cc-436d-9626-64776b34b7ba",
   "metadata": {},
   "outputs": [],
   "source": []
  },
  {
   "cell_type": "code",
   "execution_count": 117,
   "id": "993b4bde-62b4-459b-93d1-958e1f7004f6",
   "metadata": {},
   "outputs": [],
   "source": [
    "import pickle"
   ]
  },
  {
   "cell_type": "markdown",
   "id": "e5618fc3-75f3-4362-b3ec-8b03a7d619e8",
   "metadata": {},
   "source": [
    "dump() -to serialize an object <br>\n",
    "load()- to deserialize a data stream<br>\n",
    "Serialization is the process of converting an object into a format that can be easily stored or transmitted and then reconstructed later. The serialized format can be a byte stream or a string, depending on the method used."
   ]
  },
  {
   "cell_type": "code",
   "execution_count": 121,
   "id": "d8ffb180-13c0-47d4-a722-4ef8c9399c38",
   "metadata": {},
   "outputs": [],
   "source": [
    "import pickle \n",
    "example={1:\"6\",2:\"2\",3:\"f\"}\n",
    "pickle_write=open(\"text.txt\",\"wb\")\n",
    "pickle.dump(example,pickle_write)\n",
    "pickle_write.close()"
   ]
  },
  {
   "cell_type": "code",
   "execution_count": 123,
   "id": "c7336fa5-7b94-46ed-a8c8-114cc7c03d67",
   "metadata": {},
   "outputs": [
    {
     "data": {
      "text/plain": [
       "{1: '6', 2: '2', 3: 'f'}"
      ]
     },
     "execution_count": 123,
     "metadata": {},
     "output_type": "execute_result"
    }
   ],
   "source": [
    "import pickle\n",
    "f=open(\"text.txt\",\"rb\")\n",
    "pickle.load(f)"
   ]
  },
  {
   "cell_type": "markdown",
   "id": "4c5334f5-6d5b-4f91-bd42-fa426caa47de",
   "metadata": {},
   "source": [
    "#### json with python"
   ]
  },
  {
   "cell_type": "code",
   "execution_count": 129,
   "id": "a31942a1-5279-4da6-8f9a-c88f21976c75",
   "metadata": {},
   "outputs": [],
   "source": [
    "import json"
   ]
  },
  {
   "cell_type": "code",
   "execution_count": 133,
   "id": "bf3a5b9c-8e13-4ea3-b425-ab1982c871b0",
   "metadata": {},
   "outputs": [],
   "source": [
    "import json\n",
    "\n",
    "# Sample data to serialize\n",
    "data = {\n",
    "    'name': 'Alice',\n",
    "    'age': 30,\n",
    "    'city': 'New York',\n",
    "    'is_student': False\n",
    "}\n",
    "\n",
    "# Serialize and save to a JSON file\n",
    "with open('data.json', 'w') as json_file:\n",
    "    json.dump(data, json_file)  # Create JSON dump\n"
   ]
  },
  {
   "cell_type": "code",
   "execution_count": 135,
   "id": "fa212b13-ad03-4053-986c-d378dff2f36f",
   "metadata": {},
   "outputs": [
    {
     "name": "stdout",
     "output_type": "stream",
     "text": [
      "{'name': 'Alice', 'age': 30, 'city': 'New York', 'is_student': False}\n"
     ]
    }
   ],
   "source": [
    "# Load data from the JSON file\n",
    "with open('data.json', 'r') as json_file:\n",
    "    loaded_data = json.load(json_file)  # Load JSON data\n",
    "\n",
    "print(loaded_data)\n"
   ]
  },
  {
   "cell_type": "markdown",
   "id": "dc10966f-3f7a-42e4-b915-f6089a9f0830",
   "metadata": {},
   "source": [
    "### class"
   ]
  },
  {
   "cell_type": "markdown",
   "id": "68333e5a-ba95-4116-8cd6-157d2db52f7e",
   "metadata": {},
   "source": [
    "## Python Class Components\r\n",
    "\r\n",
    "### Methods\r\n",
    "- **Instance Methods**: Functions defined inside a class that operate on instances. They take `self` as the first parameter.\r\n",
    "  ```python\r\n",
    "  class MyClass:\r\n",
    "      def my_method(self):\r\n",
    "          print(\"This is an instance method.\")\r\n",
    "hod.\")\r\n"
   ]
  },
  {
   "cell_type": "markdown",
   "id": "6cb2f9a7-a020-4c85-914b-731536b3e9ec",
   "metadata": {},
   "source": [
    "Class Methods: Defined with the @classmethod decorator, these methods take cls as the first parameter, referring to the class itself."
   ]
  },
  {
   "cell_type": "code",
   "execution_count": 150,
   "id": "a24477ea-0dad-4232-bc3d-29ab4db17193",
   "metadata": {},
   "outputs": [],
   "source": [
    "class MyClass:\n",
    "    @classmethod\n",
    "    def my_class_method(cls):\n",
    "        print(\"This is a class method.\")\n"
   ]
  },
  {
   "cell_type": "markdown",
   "id": "06b82560-53d2-4bfe-a8b1-487bab4251be",
   "metadata": {},
   "source": [
    "Static Methods: Defined with the @staticmethod decorator, these methods do not take self or cls as parameters and behave like regular functions."
   ]
  },
  {
   "cell_type": "code",
   "execution_count": 153,
   "id": "d59bfd97-ca93-4212-ab42-da7eb6b88372",
   "metadata": {},
   "outputs": [],
   "source": [
    "class MyClass:\n",
    "    @staticmethod\n",
    "    def my_static_method():\n",
    "        print(\"This is a static method.\")\n"
   ]
  },
  {
   "cell_type": "markdown",
   "id": "1a3c05bf-aa33-4a5b-9d0a-0185c6817952",
   "metadata": {},
   "source": [
    "<b>Variables</b><br>\n",
    "<i>Instance Variables</i>: Attributes bound to an instance, typically defined in the \\_\\_init\\_\\_ method using self."
   ]
  },
  {
   "cell_type": "code",
   "execution_count": 158,
   "id": "4605906b-0fd5-47aa-9684-1af66148e48f",
   "metadata": {},
   "outputs": [],
   "source": [
    "class MyClass:\n",
    "    def __init__(self, value):\n",
    "        self.instance_variable = value\n"
   ]
  },
  {
   "cell_type": "markdown",
   "id": "3cbf101c-a227-4935-8ca6-1d80257132c3",
   "metadata": {},
   "source": [
    "<b>Class Variables:</b> Attributes shared across all instances of the class, defined directly within the class body."
   ]
  },
  {
   "cell_type": "code",
   "execution_count": 161,
   "id": "3cd5250a-f4d3-407d-a0d2-7660325a0649",
   "metadata": {},
   "outputs": [],
   "source": [
    "class MyClass:\n",
    "    class_variable = \"I am a class variable\"\n"
   ]
  },
  {
   "cell_type": "markdown",
   "id": "875370c1-4b0e-425b-b2be-254d8c68ab6b",
   "metadata": {},
   "source": [
    "In Python, methods that start and end with double underscores (like __init__, __str__, and __repr__) are commonly referred to as dunder methods or magic methods. The term \"dunder\" comes from \"double underscore.\""
   ]
  },
  {
   "cell_type": "markdown",
   "id": "4731e2ff-d667-4c15-b6aa-dcaf2813e1a9",
   "metadata": {},
   "source": [
    "1. Special Functions: Dunder methods enable you to define the behavior of objects for built-in operations, like addition, string representation, and iteration."
   ]
  },
  {
   "cell_type": "markdown",
   "id": "67163d92-826d-49ec-a4b7-457acd7dbe27",
   "metadata": {},
   "source": [
    "2. Automatic Invocation: These methods are automatically called by Python in specific contexts. For example, \\_\\_init\\_\\_ is called when an object is created, while \\_\\_str\\_\\_ is called when you use the print() function on an object."
   ]
  },
  {
   "cell_type": "code",
   "execution_count": null,
   "id": "2d227c41-aaec-4de2-b4f7-c827d66501ff",
   "metadata": {},
   "outputs": [],
   "source": [
    "class Point:\n",
    "    def __init__(self, x, y):\n",
    "        self.x = x\n",
    "        self.y = y\n",
    "\n",
    "    def __str__(self):\n",
    "        return f\"Point({self.x}, {self.y})\"\n",
    "\n",
    "    def __add__(self, other):\n",
    "        return Point(self.x + other.x, self.y + other.y)\n",
    "\n",
    "# Creating instances\n",
    "p1 = Point(1, 2)\n",
    "p2 = Point(3, 4)\n",
    "\n",
    "# Using the __str__ method\n",
    "print(p1)  # Output: Point(1, 2)\n",
    "\n",
    "# Using the __add__ method\n",
    "p3 = p1 + p2\n",
    "print(p3)  # Output: Point(4, 6)\n"
   ]
  },
  {
   "cell_type": "markdown",
   "id": "86a3a7cc-93b5-4898-a0e0-4dc99c777e52",
   "metadata": {},
   "source": []
  },
  {
   "cell_type": "markdown",
   "id": "8105324b-59ef-4301-bd13-0e1697f9a6e3",
   "metadata": {},
   "source": [
    "# Common Dunder Methods in Python\n",
    "\n",
    "| Dunder Method    | Description                                                  |\n",
    "|------------------|--------------------------------------------------------------|\n",
    "| `__init__`       | Initializes a new instance of a class.                      |\n",
    "| `__str__`        | Returns a human-readable string representation of an object. |\n",
    "| `__repr__`       | Returns a formal string representation of an object, useful for debugging. |\n",
    "| `__len__`        | Returns the length of an object (used by `len()`).          |\n",
    "| `__getitem__`    | Allows indexing (e.g., `obj[key]`).                         |\n",
    "| `__setitem__`    | Allows setting an item using indexing (e.g., `obj[key] = value`). |\n",
    "| `__delitem__`    | Allows deletion of an item using indexing (e.g., `del obj[key]`). |\n",
    "| `__iter__`       | Returns an iterator object (enables iteration over an object). |\n",
    "| `__next__`       | Defines behavior for the `next()` function (used in iterators). |\n",
    "| `__add__`        | Implements addition using the `+` operator.                 |\n",
    "| `__sub__`        | Implements subtraction using the `-` operator.              |\n",
    "| `__mul__`        | Implements multiplication using the `*` operator.           |\n",
    "| `__truediv__`    | Implements true division using the `/` operator.            |\n",
    "| `__floordiv__`   | Implements floor division using the `//` operator.          |\n",
    "| `__mod__`        | Implements modulo using the `%` operator.                   |\n",
    "| `__pow__`        | Implements exponentiation using the `**` operator.          |\n",
    "| `__eq__`         | Implements equality using the `==` operator.                |\n",
    "| `__ne__`         | Implements inequality using the `!=` operator.              |\n",
    "| `__lt__`         | Implements less than using the `<` operator.                |\n",
    "| `__le__`         | Implements less than or equal to using the `<=` operator.   |\n",
    "| `__gt__`         | Implements greater than using the `>` operator.             |\n",
    "| `__ge__`         | Implements greater than or equal to using the `>=` operator.|\n",
    "| `__call__`       | Allows an instance of a class to be called as a function.   |\n",
    "\n"
   ]
  },
  {
   "cell_type": "code",
   "execution_count": 3,
   "id": "a9c71373-bdee-4a32-8379-949daf30cab5",
   "metadata": {},
   "outputs": [
    {
     "name": "stdout",
     "output_type": "stream",
     "text": [
      "38\n"
     ]
    }
   ],
   "source": [
    "text = \"Hello, welcome to Python.and you know Python is great!\"\n",
    "first_index = text.find(\"Python\")\n",
    "second_index = text.find(\"Python\", first_index + 1)\n",
    "print(second_index)"
   ]
  },
  {
   "cell_type": "code",
   "execution_count": null,
   "id": "a1f8626a-a346-4a67-a823-08665b87e793",
   "metadata": {},
   "outputs": [],
   "source": []
  }
 ],
 "metadata": {
  "kernelspec": {
   "display_name": "Python 3 (ipykernel)",
   "language": "python",
   "name": "python3"
  },
  "language_info": {
   "codemirror_mode": {
    "name": "ipython",
    "version": 3
   },
   "file_extension": ".py",
   "mimetype": "text/x-python",
   "name": "python",
   "nbconvert_exporter": "python",
   "pygments_lexer": "ipython3",
   "version": "3.12.4"
  }
 },
 "nbformat": 4,
 "nbformat_minor": 5
}
