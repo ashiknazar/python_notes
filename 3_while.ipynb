{
 "cells": [
  {
   "cell_type": "markdown",
   "metadata": {},
   "source": [
    "# Python `while` Loop\n",
    "\n",
    "The `while` loop in Python is used to repeatedly execute a block of code as long as a specified condition evaluates to `True`. It is an essential control flow tool for situations where you need to repeat a task until a condition is met.\n",
    "\n",
    "## Syntax\n",
    "The basic syntax of a `while` loop is:\n",
    "\n"
   ]
  },
  {
   "cell_type": "markdown",
   "metadata": {},
   "source": [
    "\n",
    "- **`condition`**: A boolean expression that is checked before each iteration. As long as the condition evaluates to `True`, the code inside the loop will continue to execute.\n",
    "- **Loop Body**: The block of code that gets executed repeatedly as long as the condition is true.\n",
    "\n",
    "## Important Notes:\n",
    "1. **Condition Check**: The `while` loop checks the condition at the start of every iteration. If the condition is `False` initially, the body of the loop won't be executed at all.\n",
    "\n",
    "2. **Infinite Loop**: If the condition always evaluates to `True`, the loop will run forever. It's important to ensure that the condition eventually becomes `False` to avoid an infinite loop.\n",
    "\n",
    "3. **Breaking the Loop**: You can exit a `while` loop prematurely using the `break` statement. This will immediately stop the loop, regardless of the condition.\n",
    "\n",
    "4. **Skipping an Iteration**: You can skip the current iteration of a `while` loop and continue with the next one using the `continue` statement. This allows you to bypass part of the loop's code for certain conditions.\n",
    "\n",
    "## Use Cases:\n",
    "- **User Input Validation**: A `while` loop can be used to repeatedly ask for user input until a valid or specific input is received.\n",
    "- **Countdowns**: You can use a `while` loop for tasks like countdowns, where the loop continues until a specific count or time is reached.\n",
    "\n",
    "## Best Practices:\n",
    "- Ensure that the loop has a clear exit condition to avoid infinite loops.\n",
    "- Be mindful of how often the loop condition is evaluated and modified to prevent unintended behavior.\n",
    "- Use `break` and `continue` statements thoughtfully to control the flow of the loop without introducing unnecessary complexity.\n",
    "\n",
    "## Conclusion:\n",
    "The `while` loop is a fundamental and flexible tool in Python that helps automate repetitive tasks. It works well in scenarios where the number of iterations isn’t known in advance but depends on certain conditions. By managing the loop's condition carefully and using control flow statements like `break` and `continue`, you can create efficient and effective loops.\n"
   ]
  },
  {
   "cell_type": "code",
   "execution_count": 2,
   "metadata": {},
   "outputs": [
    {
     "name": "stdout",
     "output_type": "stream",
     "text": [
      "Count is: 0\n",
      "Count is: 1\n",
      "Count is: 2\n",
      "Count is: 3\n",
      "Count is: 4\n"
     ]
    }
   ],
   "source": [
    "# Example of a basic while loop\n",
    "count = 0\n",
    "while count < 5:\n",
    "    print(\"Count is:\", count)\n",
    "    count += 1\n"
   ]
  },
  {
   "cell_type": "code",
   "execution_count": 4,
   "metadata": {},
   "outputs": [],
   "source": [
    "# Example of an infinite loop (will run forever unless stopped)\n",
    "# while True:\n",
    "#     print(\"This will run forever!\")\n",
    "\n"
   ]
  },
  {
   "cell_type": "code",
   "execution_count": 5,
   "metadata": {},
   "outputs": [
    {
     "name": "stdout",
     "output_type": "stream",
     "text": [
      "0\n",
      "1\n",
      "2\n",
      "3\n",
      "4\n"
     ]
    }
   ],
   "source": [
    "\n",
    "# Example of breaking out of the while loop\n",
    "count = 0\n",
    "while count < 10:\n",
    "    if count == 5:\n",
    "        break  # Exit loop when count is 5\n",
    "    print(count)\n",
    "    count += 1"
   ]
  },
  {
   "cell_type": "code",
   "execution_count": 1,
   "metadata": {},
   "outputs": [
    {
     "name": "stdout",
     "output_type": "stream",
     "text": [
      "Count is: 0\n",
      "Count is: 1\n",
      "Count is: 2\n",
      "Count is: 3\n",
      "Count is: 4\n",
      "0\n",
      "1\n",
      "2\n",
      "3\n",
      "4\n",
      "1\n",
      "2\n",
      "4\n",
      "5\n"
     ]
    }
   ],
   "source": [
    "\n",
    "\n",
    "\n",
    "# Example of skipping an iteration in the while loop\n",
    "count = 0\n",
    "while count < 5:\n",
    "    count += 1\n",
    "    if count == 3:\n",
    "        continue  # Skip when count is 3\n",
    "    print(count)\n"
   ]
  },
  {
   "cell_type": "markdown",
   "metadata": {},
   "source": []
  }
 ],
 "metadata": {
  "kernelspec": {
   "display_name": "base",
   "language": "python",
   "name": "python3"
  },
  "language_info": {
   "codemirror_mode": {
    "name": "ipython",
    "version": 3
   },
   "file_extension": ".py",
   "mimetype": "text/x-python",
   "name": "python",
   "nbconvert_exporter": "python",
   "pygments_lexer": "ipython3",
   "version": "3.12.7"
  }
 },
 "nbformat": 4,
 "nbformat_minor": 2
}
