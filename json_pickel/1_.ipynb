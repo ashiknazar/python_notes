{
 "cells": [
  {
   "cell_type": "markdown",
   "metadata": {},
   "source": [
    "### Pickle and JSON with `open()` and `close()`\n",
    "\n",
    "Both **Pickle** and **JSON** serialization methods require working with file operations such as opening and closing files to store and retrieve serialized data. The process for both is essentially the same:\n",
    "\n",
    "1. **Opening a file**: You open a file in the appropriate mode (`'wb'` for Pickle binary mode, `'w'` for JSON text mode) to write, or `'rb'` and `'r'` to read.\n",
    "2. **Writing and reading data**: You use `pickle.dump()` or `json.dump()` to write serialized data to the file, and `pickle.load()` or `json.load()` to read and deserialize data back.\n",
    "3. **Closing the file**: After the operation, you should always close the file using `file.close()` to ensure proper file handling and resource release.\n",
    "\n",
    "The following example demonstrates the similarity between Pickle and JSON handling:\n",
    "\n",
    "```python\n",
    "# Pickle Example\n",
    "import pickle\n",
    "file = open('data.pkl', 'wb')  # Open file in binary write mode\n",
    "pickle.dump(my_object, file)    # Serialize and write the object to the file\n",
    "file.close()                    # Close the file\n",
    "\n",
    "# JSON Example\n",
    "import json\n",
    "file = open('data.json', 'w')   # Open file in text write mode\n",
    "json.dump(my_object, file)      # Serialize and write the object to the file\n",
    "file.close()                    # Close the file\n"
   ]
  },
  {
   "cell_type": "markdown",
   "metadata": {},
   "source": [
    "___\n",
    "___\n",
    "___"
   ]
  },
  {
   "cell_type": "markdown",
   "metadata": {},
   "source": [
    "### Pickle: `dump` and `load`\n",
    "\n",
    "**Pickle** is a module in Python used to serialize (convert objects into byte streams) and deserialize (reconstruct objects from byte streams) Python objects.\n",
    "\n",
    "- **`pickle.dump(obj, file)`**: Serializes the object `obj` and writes it to the file-like object `file`.\n",
    "  ```python\n",
    "  import pickle\n",
    "  with open('data.pkl', 'wb') as f:\n",
    "      pickle.dump(my_object, f)\n"
   ]
  },
  {
   "cell_type": "markdown",
   "metadata": {},
   "source": [
    "- **`pickle.load(file)`**: Reads a serialized object from the file-like object `file` and deserializes it back to the original object.\n",
    "```python\n",
    "import pickle\n",
    "with open('data.pkl', 'rb') as f:\n",
    "    my_object = pickle.load(f)\n",
    "```\n"
   ]
  },
  {
   "cell_type": "markdown",
   "metadata": {},
   "source": [
    "### JSON: dump and load\n",
    "**JSON** (JavaScript Object Notation) is a lightweight data interchange format. Python's `json` module allows you to serialize Python objects to JSON format and deserialize them back.\n",
    "\n",
    "- `json.dump(obj, file)`: Serializes the Python object `obj` and writes it to the file-like object `file` in JSON format.\n",
    "\n",
    "```python\n",
    "\n",
    "import json\n",
    "with open('data.json', 'w') as f:\n",
    "    json.dump(my_object, f)\n",
    "```\n",
    "\n",
    "- `json.load(file)`: Reads the JSON formatted data from the file-like object `file` and converts it back into a Python object.\n",
    "\n",
    "```python\n",
    "\n",
    "import json\n",
    "with open('data.json', 'r') as f:\n",
    "    my_object = json.load(f)\n",
    "\n",
    "```\n",
    "***Key Differences:***\n",
    "Pickle: Can serialize more complex Python objects, including custom classes, but is Python-specific.\n",
    "JSON: Only supports basic Python data types (dict, list, str, int, float, bool, None) and is language-agnostic.\n",
    "Copy code\n",
    "\n",
    "\n"
   ]
  },
  {
   "cell_type": "markdown",
   "metadata": {},
   "source": []
  }
 ],
 "metadata": {
  "language_info": {
   "name": "python"
  }
 },
 "nbformat": 4,
 "nbformat_minor": 2
}
