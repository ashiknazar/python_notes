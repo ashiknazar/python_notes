{
 "cells": [
  {
   "cell_type": "markdown",
   "id": "021ddee4-c236-4c42-a345-8964f523726a",
   "metadata": {},
   "source": [
    "# Encapsulation"
   ]
  },
  {
   "cell_type": "markdown",
   "id": "b1a9cef9-2819-43a0-a281-0eca393f3ca3",
   "metadata": {},
   "source": [
    "Encapsulation is a fundamental concept in object-oriented programming (OOP) that restricts direct access to some of an object's attributes and methods. In Python, encapsulation is primarily achieved through the use of private and protected members. Here’s a breakdown of how it works in Python:"
   ]
  },
  {
   "cell_type": "markdown",
   "id": "cfbba269",
   "metadata": {},
   "source": [
    "___"
   ]
  },
  {
   "cell_type": "markdown",
   "id": "dae9d441-db99-43e8-9161-c22701adc76d",
   "metadata": {},
   "source": [
    "<b>Public Members</b>: Attributes and methods that can be accessed from anywhere in the program. They are defined without any leading underscores.\n",
    "\n",
    "<b>Protected Members</b>: Attributes and methods that are intended to be used within the class and its subclasses. They are defined with a single leading underscore (_).\n",
    "\n",
    "<b>Private Members</b>: Attributes and methods that cannot be accessed from outside the class. They are defined with double leading underscores (__). Python name-mangles these attributes to prevent accidental access."
   ]
  },
  {
   "cell_type": "markdown",
   "id": "c99c6141",
   "metadata": {},
   "source": [
    "___"
   ]
  },
  {
   "cell_type": "markdown",
   "id": "113f7798-064a-4862-a4bd-b5e3f3e0f916",
   "metadata": {},
   "source": [
    "#### public attribute can be accessed from outside"
   ]
  },
  {
   "cell_type": "code",
   "execution_count": 11,
   "id": "58b35767-c897-47f8-9f5a-145f955a9e14",
   "metadata": {},
   "outputs": [
    {
     "name": "stdout",
     "output_type": "stream",
     "text": [
      "Name: Alice\n",
      "Age: 30\n",
      "Updated Name: Bob\n",
      "Updated Age: 35\n"
     ]
    }
   ],
   "source": [
    "class Person:\n",
    "    def __init__(self, name, age):\n",
    "        self.name = name  # Public attribute\n",
    "        self.age = age    # Public attribute\n",
    "\n",
    "\n",
    "\n",
    "\n",
    "# Create an instance of Person\n",
    "person = Person(\"Alice\", 30)\n",
    "\n",
    "# Accessing public attributes from outside the class\n",
    "print(\"Name:\", person.name)  # Outputs: Name: Alice\n",
    "print(\"Age:\", person.age)    # Outputs: Age: 30\n",
    "\n",
    "# Modifying public attributes\n",
    "person.name = \"Bob\"\n",
    "person.age = 35\n",
    "\n",
    "# Accessing modified attributes\n",
    "print(\"Updated Name:\", person.name)  # Outputs: Updated Name: Bob\n",
    "print(\"Updated Age:\", person.age)    # Outputs: Updated Age: 35\n"
   ]
  },
  {
   "cell_type": "markdown",
   "id": "aa12881a",
   "metadata": {},
   "source": [
    "___"
   ]
  },
  {
   "cell_type": "markdown",
   "id": "93265af8-0d9b-49a7-9d00-e7e8109845dc",
   "metadata": {},
   "source": [
    "### can't access private variable outside class"
   ]
  },
  {
   "cell_type": "code",
   "execution_count": 1,
   "id": "33a17ead-76b9-4257-882a-962bfb05b19a",
   "metadata": {},
   "outputs": [
    {
     "name": "stdout",
     "output_type": "stream",
     "text": [
      "Deposited: 50\n",
      "Current Balance: 150\n",
      "Withdrew: 30\n",
      "Current Balance: 120\n",
      "Error: 'BankAccount' object has no attribute '__balance'\n"
     ]
    }
   ],
   "source": [
    "class BankAccount:\n",
    "    def __init__(self, owner, balance=0):\n",
    "        self.owner = owner           # Public attribute\n",
    "        self.__balance = balance     # Private attribute\n",
    "\n",
    "    def deposit(self, amount):\n",
    "        if amount > 0:\n",
    "            self.__balance += amount\n",
    "            print(f\"Deposited: {amount}\")\n",
    "        else:\n",
    "            print(\"Deposit amount must be positive.\")\n",
    "\n",
    "    def withdraw(self, amount):\n",
    "        if 0 < amount <= self.__balance:\n",
    "            self.__balance -= amount\n",
    "            print(f\"Withdrew: {amount}\")\n",
    "        else:\n",
    "            print(\"Invalid withdrawal amount.\")\n",
    "\n",
    "    def get_balance(self):           # Public method to access private balance\n",
    "        return self.__balance\n",
    "\n",
    "\n",
    "\n",
    "\n",
    "# Using the BankAccount class\n",
    "account = BankAccount(\"Alice\", 100)\n",
    "account.deposit(50)\n",
    "print(\"Current Balance:\", account.get_balance())  # Outputs: 150\n",
    "\n",
    "account.withdraw(30)\n",
    "print(\"Current Balance:\", account.get_balance())  # Outputs: 120\n",
    "\n",
    "# Trying to access private attribute\n",
    "try:\n",
    "    print(account.__balance)  # Raises AttributeError\n",
    "except AttributeError as e:\n",
    "    print(\"Error:\", e)\n"
   ]
  },
  {
   "cell_type": "markdown",
   "id": "aacc8405",
   "metadata": {},
   "source": [
    "___"
   ]
  },
  {
   "cell_type": "markdown",
   "id": "5c7c3305",
   "metadata": {},
   "source": [
    "### protected attributes"
   ]
  },
  {
   "cell_type": "code",
   "execution_count": 16,
   "id": "d1aa58fb-aa34-46c7-82af-17960a2a1f14",
   "metadata": {},
   "outputs": [
    {
     "name": "stdout",
     "output_type": "stream",
     "text": [
      "Buddy makes a sound.\n",
      "Buddy barks!\n",
      "Buddy\n",
      "Max\n"
     ]
    }
   ],
   "source": [
    "class Animal:\n",
    "    def __init__(self, name):\n",
    "        self._name = name  # Protected attribute\n",
    "\n",
    "    def speak(self):\n",
    "        return f\"{self._name} makes a sound.\"\n",
    "\n",
    "\n",
    "class Dog(Animal):\n",
    "    def bark(self):\n",
    "        return f\"{self._name} barks!\"  # Accessing protected attribute\n",
    "\n",
    "# Create an instance of Dog\n",
    "dog = Dog(\"Buddy\")\n",
    "\n",
    "# Accessing protected attribute from within the class\n",
    "print(dog.speak())  # Outputs: Buddy makes a sound.\n",
    "print(dog.bark())   # Outputs: Buddy barks!\n",
    "\n",
    "# Accessing the protected attribute from outside the class\n",
    "print(dog._name)    # Outputs: Buddy\n",
    "\n",
    "# Modifying the protected attribute\n",
    "dog._name = \"Max\"\n",
    "print(dog._name)    # Outputs: Max\n"
   ]
  },
  {
   "cell_type": "markdown",
   "id": "3c597755",
   "metadata": {},
   "source": [
    "____"
   ]
  },
  {
   "cell_type": "markdown",
   "id": "9eeb486f-634f-4495-8938-8ad38b71e6ab",
   "metadata": {},
   "source": [
    "<b>Protected Attributes</b>: These are intended for internal use within the class and its subclasses. While they can be accessed from outside, it's a convention to treat them as private. The underscore signals to developers that these attributes should not be accessed directly outside their intended context."
   ]
  },
  {
   "cell_type": "markdown",
   "id": "bf0bfa0c",
   "metadata": {},
   "source": [
    "___\n",
    "___\n",
    "___"
   ]
  },
  {
   "cell_type": "markdown",
   "id": "7b96ef5d-64db-4b4b-87dc-bd4a2de3061d",
   "metadata": {},
   "source": [
    "# Polymorphism"
   ]
  },
  {
   "cell_type": "markdown",
   "id": "58bb44f7-a77e-49ba-a08e-4cfec3a39d1a",
   "metadata": {},
   "source": [
    "Polymorphism is a core concept in object-oriented programming (OOP) that allows objects of different classes to be treated as objects of a common superclass. It enables methods to be used in different ways based on the object invoking them, even if those objects are of different types."
   ]
  },
  {
   "cell_type": "code",
   "execution_count": 23,
   "id": "268bd09b-9c14-4625-b7d3-bb1c86d49940",
   "metadata": {},
   "outputs": [
    {
     "name": "stdout",
     "output_type": "stream",
     "text": [
      "Woof!\n",
      "Meow!\n",
      "Moo!\n"
     ]
    }
   ],
   "source": [
    "class Animal:\n",
    "    def speak(self):\n",
    "        raise NotImplementedError(\"Subclass must implement abstract method\")\n",
    "\n",
    "\n",
    "\n",
    "\n",
    "\n",
    "class Dog(Animal):\n",
    "    def speak(self):\n",
    "        return \"Woof!\"\n",
    "\n",
    "class Cat(Animal):\n",
    "    def speak(self):\n",
    "        return \"Meow!\"\n",
    "\n",
    "class Cow(Animal):\n",
    "    def speak(self):\n",
    "        return \"Moo!\"\n",
    "\n",
    "\n",
    "\n",
    "# Function that uses polymorphism\n",
    "\n",
    "def animal_sound(animal):\n",
    "    print(animal.speak())\n",
    "\n",
    "\n",
    "\n",
    "# Create instances of different animals\n",
    "dog = Dog()\n",
    "\n",
    "cat = Cat()\n",
    "cow = Cow()\n",
    "\n",
    "# Call the function with different types\n",
    "animal_sound(dog)  # Outputs: Woof!\n",
    "animal_sound(cat)  # Outputs: Meow!\n",
    "animal_sound(cow)  # Outputs: Moo!\n"
   ]
  },
  {
   "cell_type": "markdown",
   "id": "020b73fd-8f84-4440-9595-7f4db9a56699",
   "metadata": {},
   "source": [
    "<b>Base Class</b>: Animal is a base class with a method speak(). This method is intended to be overridden in derived classes.<br>\n",
    "<b>Derived Classes</b>: Dog, Cat, and Cow inherit from Animal and provide their own implementation of the speak() method.<br>\n",
    "<b>Polymorphic Behavior</b>: The animal_sound() function takes an Animal object as an argument and calls the speak() method. Regardless of the specific type of Animal passed (Dog, Cat, or Cow), the correct speak() method for that type is called."
   ]
  },
  {
   "cell_type": "markdown",
   "id": "e9344b88-8eb4-41db-a159-fd4821811840",
   "metadata": {},
   "source": [
    "- When we say that the function behaves \"regardless of the specific type of Animal passed,\" we mean that the **same function (animal_sound()) can accept different types of objects (like Dog, Cat, or Cow) and call the appropriate method for each of them.** Here's how it works:\n",
    "\n",
    "- Single Function: You have a single function, animal_sound(animal), that takes an argument animal.\n",
    "\n",
    "- Dynamic Method Resolution: Inside this function, when you call animal.speak(), Python looks up the method to call based on the actual type of the object passed in:\n",
    "  - If you pass a Dog object, it calls the speak() method defined in the Dog class.\n",
    "  - If you pass a Cat object, it calls the speak() method defined in the Cat class.\n",
    "  - If you pass a Cow object, it calls the speak() method defined in the Cow class."
   ]
  },
  {
   "cell_type": "markdown",
   "id": "040f86b0-c6e2-4ecd-aff6-de163f688092",
   "metadata": {},
   "source": [
    "#### use super to call parent methods"
   ]
  },
  {
   "cell_type": "code",
   "execution_count": null,
   "id": "2c3ed5ce-cf0c-4d83-b8ce-52386fe43e83",
   "metadata": {},
   "outputs": [],
   "source": [
    "class Animal:\n",
    "    def __init__(self, name):\n",
    "        self.name = name\n",
    "    \n",
    "    def speak(self):\n",
    "        return f\"{self.name} makes a sound.\"\n",
    "\n",
    "class Dog(Animal):\n",
    "    def __init__(self, name, breed):\n",
    "        super().__init__(name)  # Call the parent class's __init__ method\n",
    "        self.breed = breed\n",
    "\n",
    "    def speak(self):\n",
    "        parent_speak = super().speak()  # Call the parent class's speak method\n",
    "        return f\"{parent_speak} Woof!\"\n",
    "\n",
    "# Create an instance of Dog\n",
    "\n",
    "dog = Dog(\"Buddy\", \"Golden Retriever\")\n",
    "\n",
    "# Using the methods\n",
    "print(dog.speak())  # Outputs: Buddy makes a sound. Woof!\n"
   ]
  },
  {
   "cell_type": "markdown",
   "id": "4d939e1e-7d9d-4845-a415-57f95f22bcb3",
   "metadata": {},
   "source": [
    "#### method overloading"
   ]
  },
  {
   "cell_type": "markdown",
   "id": "e5e5ef51-9bc2-4676-8b2c-8c8f582280fb",
   "metadata": {},
   "source": [
    "Method Overloading is a feature that allows a class to have multiple methods with the same name but different parameters. However, Python does not support method overloading in the traditional sense (like some other languages do). Instead, you can achieve similar behavior by using default arguments or variable-length arguments"
   ]
  },
  {
   "cell_type": "code",
   "execution_count": 28,
   "id": "f74d0005-1e73-4989-93f8-c29a4da39336",
   "metadata": {},
   "outputs": [
    {
     "name": "stdout",
     "output_type": "stream",
     "text": [
      "5\n",
      "9\n"
     ]
    }
   ],
   "source": [
    "class MathOperations:\n",
    "    def add(self, a, b, c=0):  # Default argument for overloading\n",
    "        return a + b + c\n",
    "\n",
    "\n",
    "\n",
    "\n",
    "# Create an instance of MathOperations\n",
    "\n",
    "math_ops = MathOperations()\n",
    "\n",
    "\n",
    "# Different ways to call the same method\n",
    "\n",
    "\n",
    "print(math_ops.add(2, 3))          # Outputs: 5 (2 + 3)\n",
    "\n",
    "print(math_ops.add(2, 3, 4))       # Outputs: 9 (2 + 3 + 4)\n"
   ]
  },
  {
   "cell_type": "markdown",
   "id": "244ab62f-46c1-4ab7-8586-a108e48243f1",
   "metadata": {},
   "source": [
    "#### method overriding"
   ]
  },
  {
   "cell_type": "markdown",
   "id": "f61adc54-4c9a-4ce6-90a6-045f5ac893ef",
   "metadata": {},
   "source": [
    "Method Overriding occurs when a subclass provides a specific implementation of a method that is already defined in its superclass. This allows the subclass to modify or extend the behavior of the parent class's method."
   ]
  },
  {
   "cell_type": "markdown",
   "id": "a3390951-99b7-44c4-a430-a1eb382848b2",
   "metadata": {},
   "source": [
    "Method Overriding occurs when a subclass provides a specific implementation of a method that is already defined in its superclass. This allows the subclass to modify or extend the behavior of the parent class's method."
   ]
  },
  {
   "cell_type": "markdown",
   "id": "a1f8626a-a346-4a67-a823-08665b87e793",
   "metadata": {},
   "source": [
    "___\n",
    "___\n",
    "___\n",
    "# Inheritance \n",
    "Inheritance is a mechanism in object-oriented programming that allows a class (called the child or derived class) to inherit properties and behaviors (methods and attributes) from another class (called the parent or base class). Python supports several types of inheritance:\n",
    "\n"
   ]
  },
  {
   "cell_type": "markdown",
   "id": "1cf15f59",
   "metadata": {},
   "source": [
    "#### 1. Single Inheritance\n",
    "A child class inherits from only one parent class.\n",
    "Example:"
   ]
  },
  {
   "cell_type": "code",
   "execution_count": null,
   "id": "9f2ebdc8",
   "metadata": {},
   "outputs": [],
   "source": [
    "class Parent:\n",
    "    def display(self):\n",
    "        print(\"This is the parent class\")\n",
    "\n",
    "class Child(Parent):\n",
    "    def show(self):\n",
    "        print(\"This is the child class\")\n",
    "\n",
    "# Usage\n",
    "c = Child()\n",
    "c.display()  # Access parent class method\n",
    "c.show()     # Access child class method\n"
   ]
  },
  {
   "cell_type": "markdown",
   "id": "9709929b",
   "metadata": {},
   "source": [
    "#### 2. Multiple Inheritance\n",
    "A child class inherits from more than one parent class."
   ]
  },
  {
   "cell_type": "code",
   "execution_count": 1,
   "id": "254defe6",
   "metadata": {},
   "outputs": [
    {
     "name": "stdout",
     "output_type": "stream",
     "text": [
      "This is Parent1\n",
      "This is Parent2\n",
      "This is the child class\n"
     ]
    }
   ],
   "source": [
    "class Parent1:\n",
    "    def method1(self):\n",
    "        print(\"This is Parent1\")\n",
    "\n",
    "class Parent2:\n",
    "    def method2(self):\n",
    "        print(\"This is Parent2\")\n",
    "\n",
    "class Child(Parent1, Parent2):\n",
    "    def method3(self):\n",
    "        print(\"This is the child class\")\n",
    "\n",
    "# Usage\n",
    "c = Child()\n",
    "c.method1()  # Access method from Parent1\n",
    "c.method2()  # Access method from Parent2\n",
    "c.method3()  # Access child class method\n"
   ]
  },
  {
   "cell_type": "markdown",
   "id": "d683bff1",
   "metadata": {},
   "source": [
    "#### 3. Multilevel Inheritance\n",
    "A class is derived from another child class, forming a chain of inheritance.\n",
    "Example:"
   ]
  },
  {
   "cell_type": "code",
   "execution_count": 2,
   "id": "ce09a143",
   "metadata": {},
   "outputs": [
    {
     "name": "stdout",
     "output_type": "stream",
     "text": [
      "This is the grandparent class\n",
      "This is the parent class\n",
      "This is the child class\n"
     ]
    }
   ],
   "source": [
    "class GrandParent:\n",
    "    def method1(self):\n",
    "        print(\"This is the grandparent class\")\n",
    "\n",
    "class Parent(GrandParent):\n",
    "    def method2(self):\n",
    "        print(\"This is the parent class\")\n",
    "\n",
    "class Child(Parent):\n",
    "    def method3(self):\n",
    "        print(\"This is the child class\")\n",
    "\n",
    "# Usage\n",
    "c = Child()\n",
    "c.method1()  # Grandparent method\n",
    "c.method2()  # Parent method\n",
    "c.method3()  # Child method\n"
   ]
  },
  {
   "cell_type": "markdown",
   "id": "f05c6e52",
   "metadata": {},
   "source": [
    "#### 4. Hierarchical Inheritance\n",
    "Multiple child classes inherit from a single parent class.\n",
    "Example:"
   ]
  },
  {
   "cell_type": "code",
   "execution_count": 3,
   "id": "ce397ddb",
   "metadata": {},
   "outputs": [
    {
     "name": "stdout",
     "output_type": "stream",
     "text": [
      "This is the parent class\n",
      "This is child1\n",
      "This is the parent class\n",
      "This is child2\n"
     ]
    }
   ],
   "source": [
    "class Parent:\n",
    "    def common_method(self):\n",
    "        print(\"This is the parent class\")\n",
    "\n",
    "class Child1(Parent):\n",
    "    def child1_method(self):\n",
    "        print(\"This is child1\")\n",
    "\n",
    "class Child2(Parent):\n",
    "    def child2_method(self):\n",
    "        print(\"This is child2\")\n",
    "\n",
    "# Usage\n",
    "c1 = Child1()\n",
    "c1.common_method()\n",
    "c1.child1_method()\n",
    "\n",
    "c2 = Child2()\n",
    "c2.common_method()\n",
    "c2.child2_method()\n"
   ]
  },
  {
   "cell_type": "markdown",
   "id": "105bd860",
   "metadata": {},
   "source": [
    "#### 5. Hybrid Inheritance\n",
    "A combination of two or more types of inheritance to form a complex hierarchy.\n",
    "Example:"
   ]
  },
  {
   "cell_type": "code",
   "execution_count": 4,
   "id": "8d469e89",
   "metadata": {},
   "outputs": [
    {
     "name": "stdout",
     "output_type": "stream",
     "text": [
      "This is the base class\n",
      "This is parent1\n",
      "This is parent2\n",
      "This is the child class\n"
     ]
    }
   ],
   "source": [
    "class Base:\n",
    "    def base_method(self):\n",
    "        print(\"This is the base class\")\n",
    "\n",
    "class Parent1(Base):\n",
    "    def parent1_method(self):\n",
    "        print(\"This is parent1\")\n",
    "\n",
    "class Parent2(Base):\n",
    "    def parent2_method(self):\n",
    "        print(\"This is parent2\")\n",
    "\n",
    "class Child(Parent1, Parent2):\n",
    "    def child_method(self):\n",
    "        print(\"This is the child class\")\n",
    "\n",
    "# Usage\n",
    "c = Child()\n",
    "c.base_method()      # Base class method\n",
    "c.parent1_method()   # Parent1 method\n",
    "c.parent2_method()   # Parent2 method\n",
    "c.child_method()     # Child class method\n"
   ]
  },
  {
   "cell_type": "markdown",
   "id": "e756dd2f",
   "metadata": {},
   "source": [
    "___\n",
    "___\n",
    "___"
   ]
  },
  {
   "cell_type": "markdown",
   "id": "8f2225e3",
   "metadata": {},
   "source": [
    "### Method Resolution Order (MRO):\n",
    "In multiple inheritance, Python uses the C3 Linearization Algorithm to determine the order in which classes are accessed. You can view the MRO of a class using ClassName.mro() or help(ClassName)."
   ]
  },
  {
   "cell_type": "markdown",
   "id": "96f93966",
   "metadata": {},
   "source": [
    "### super() Function:\n",
    "This function allows you to call methods of the parent class directly, especially in cases where overriding occurs"
   ]
  },
  {
   "cell_type": "code",
   "execution_count": 5,
   "id": "cf866b45",
   "metadata": {},
   "outputs": [
    {
     "name": "stdout",
     "output_type": "stream",
     "text": [
      "Hello from Parent\n",
      "Hello from Child\n"
     ]
    }
   ],
   "source": [
    "class Parent:\n",
    "    def greet(self):\n",
    "        print(\"Hello from Parent\")\n",
    "\n",
    "class Child(Parent):\n",
    "    def greet(self):\n",
    "        super().greet()  # Call parent method\n",
    "        print(\"Hello from Child\")\n",
    "\n",
    "c = Child()\n",
    "c.greet()\n"
   ]
  },
  {
   "cell_type": "code",
   "execution_count": 6,
   "id": "c9098ada",
   "metadata": {},
   "outputs": [
    {
     "name": "stdout",
     "output_type": "stream",
     "text": [
      "Class B\n"
     ]
    }
   ],
   "source": [
    "class A:\n",
    "    def show(self):\n",
    "        print(\"Class A\")\n",
    "\n",
    "class B(A):\n",
    "    def show(self):\n",
    "        print(\"Class B\")\n",
    "\n",
    "class C(A):\n",
    "    def show(self):\n",
    "        print(\"Class C\")\n",
    "\n",
    "class D(B, C):\n",
    "    pass  # No additional methods\n",
    "\n",
    "# MRO: D -> B -> C -> A\n",
    "d = D()\n",
    "d.show()  # Resolves to the method in class B\n"
   ]
  },
  {
   "cell_type": "code",
   "execution_count": 7,
   "id": "74f505b4",
   "metadata": {},
   "outputs": [
    {
     "name": "stdout",
     "output_type": "stream",
     "text": [
      "[<class '__main__.D'>, <class '__main__.B'>, <class '__main__.C'>, <class '__main__.A'>, <class 'object'>]\n",
      "Help on class D in module __main__:\n",
      "\n",
      "class D(B, C)\n",
      " |  Method resolution order:\n",
      " |      D\n",
      " |      B\n",
      " |      C\n",
      " |      A\n",
      " |      builtins.object\n",
      " |\n",
      " |  Methods inherited from B:\n",
      " |\n",
      " |  show(self)\n",
      " |\n",
      " |  ----------------------------------------------------------------------\n",
      " |  Data descriptors inherited from A:\n",
      " |\n",
      " |  __dict__\n",
      " |      dictionary for instance variables\n",
      " |\n",
      " |  __weakref__\n",
      " |      list of weak references to the object\n",
      "\n"
     ]
    }
   ],
   "source": [
    "print(D.mro())  # Outputs the MRO as a list\n",
    "# [<class '__main__.D'>, <class '__main__.B'>, <class '__main__.C'>, <class '__main__.A'>, <class 'object'>]\n",
    "\n",
    "help(D)  # Displays the MRO and documentation for class D\n"
   ]
  },
  {
   "cell_type": "markdown",
   "id": "05207076",
   "metadata": {},
   "source": [
    "___\n",
    "___\n",
    "___"
   ]
  },
  {
   "cell_type": "markdown",
   "id": "46788068",
   "metadata": {},
   "source": [
    "# Abstract Method in Python\n",
    "\n",
    "An **abstract method** in Python is a method that is declared but contains no implementation. Abstract methods are defined in an abstract class, which serves as a blueprint for other classes. Abstract methods ensure that the derived classes implement their specific version of these methods.\n",
    "\n",
    "## Key Concepts\n",
    "\n",
    "### 1. Abstract Class\n",
    "An **abstract class** is a class that cannot be instantiated directly and is designed to be subclassed. It can contain both abstract methods (methods with no implementation) and regular methods (methods with an implementation). \n",
    "\n",
    "To define an abstract class in Python, we use the `ABC` (Abstract Base Class) module and inherit from `ABC`.\n",
    "\n",
    "### 2. Abstract Method\n",
    "An **abstract method** is a method in an abstract class that must be implemented by any subclass of the abstract class. It is declared using the `@abstractmethod` decorator.\n",
    "\n",
    "- Abstract methods have no body; they only provide the method signature.\n",
    "- Any class that inherits from an abstract class containing abstract methods must override these abstract methods.\n",
    "\n",
    "### Syntax\n",
    "\n",
    "To define an abstract class with an abstract method:\n",
    "\n",
    "```python\n",
    "from abc import ABC, abstractmethod\n",
    "\n",
    "class MyAbstractClass(ABC):\n",
    "    \n",
    "    @abstractmethod\n",
    "    def my_abstract_method(self):\n",
    "        pass\n"
   ]
  },
  {
   "cell_type": "markdown",
   "id": "b1d7701a",
   "metadata": {},
   "source": [
    "- The @abstractmethod decorator marks my_abstract_method as an abstract method, meaning that any subclass must implement this method.\n",
    "- The ABC class ensures that we can't create an instance of MyAbstractClass directly.\n",
    "### 3. Implementing Abstract Methods in Subclasses\n",
    "A subclass of an abstract class must provide concrete implementations for all the abstract methods. If a subclass does not implement all abstract methods, it will also be considered abstract and cannot be instantiated.\n",
    "\n",
    "```python\n",
    "\n",
    "class ConcreteClass(MyAbstractClass):\n",
    "    \n",
    "    def my_abstract_method(self):\n",
    "        print(\"This is the implementation of the abstract method\")\n",
    "```\n",
    "### 4. Benefits of Abstract Methods\n",
    "- Enforces structure: Abstract methods enforce a common interface across different subclasses.\n",
    "- Code Reusability: Abstract classes allow you to define common functionality that can be inherited by subclasses while leaving the specific details to be implemented in the subclasses.\n",
    "- Polymorphism: Abstract methods enable polymorphism, where different objects of subclasses can be treated uniformly based on the abstract class interface.\n",
    "#### Example: Complete Code with Abstract Method\n",
    "```python\n",
    "\n",
    "from abc import ABC, abstractmethod\n",
    "\n",
    "class Shape(ABC):\n",
    "    \n",
    "    @abstractmethod\n",
    "    def area(self):\n",
    "        pass\n",
    "    \n",
    "    @abstractmethod\n",
    "    def perimeter(self):\n",
    "        pass\n",
    "\n",
    "class Rectangle(Shape):\n",
    "    \n",
    "    def __init__(self, width, height):\n",
    "        self.width = width\n",
    "        self.height = height\n",
    "        \n",
    "    def area(self):\n",
    "        return self.width * self.height\n",
    "    \n",
    "    def perimeter(self):\n",
    "        return 2 * (self.width + self.height)\n",
    "\n",
    "class Circle(Shape):\n",
    "    \n",
    "    def __init__(self, radius):\n",
    "        self.radius = radius\n",
    "        \n",
    "    def area(self):\n",
    "        return 3.14 * (self.radius ** 2)\n",
    "    \n",
    "    def perimeter(self):\n",
    "        return 2 * 3.14 * self.radius\n",
    "\n",
    "# Creating objects of concrete classes\n",
    "rectangle = Rectangle(5, 10)\n",
    "circle = Circle(7)\n",
    "\n",
    "print(\"Rectangle Area:\", rectangle.area())\n",
    "print(\"Circle Perimeter:\", circle.perimeter())\n",
    "```\n",
    "\n",
    "In this example:\n",
    "\n",
    "- Shape is an abstract class with two abstract methods: area() and perimeter().\n",
    "- Rectangle and Circle are concrete subclasses that provide specific implementations for these methods.\n",
    "- If you try to instantiate Shape directly, Python will raise a TypeError because it contains abstract methods."
   ]
  },
  {
   "cell_type": "markdown",
   "id": "c1aaea67",
   "metadata": {},
   "source": []
  }
 ],
 "metadata": {
  "kernelspec": {
   "display_name": "base",
   "language": "python",
   "name": "python3"
  },
  "language_info": {
   "codemirror_mode": {
    "name": "ipython",
    "version": 3
   },
   "file_extension": ".py",
   "mimetype": "text/x-python",
   "name": "python",
   "nbconvert_exporter": "python",
   "pygments_lexer": "ipython3",
   "version": "3.12.7"
  }
 },
 "nbformat": 4,
 "nbformat_minor": 5
}
